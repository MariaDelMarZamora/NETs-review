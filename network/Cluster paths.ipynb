{
 "cells": [
  {
   "cell_type": "code",
   "execution_count": 178,
   "metadata": {
    "collapsed": false,
    "deletable": true,
    "editable": true
   },
   "outputs": [],
   "source": [
    "import igraph\n",
    "import numpy as np\n",
    "import pandas as pd\n",
    "import seaborn as sns; sns.set()\n",
    "import matplotlib.pyplot as plt\n",
    "\n",
    "from igraph import *\n",
    "\n",
    "g1 = Graph.Read_GraphML('../bib_data/1990-2005/pre_2006_3.graphml')\n",
    "g2 = Graph.Read_GraphML('../bib_data/1990-2017/all_years_3.graphml')"
   ]
  },
  {
   "cell_type": "code",
   "execution_count": 179,
   "metadata": {
    "collapsed": false,
    "deletable": true,
    "editable": true
   },
   "outputs": [],
   "source": [
    "def cluster_distance(g):\n",
    "\n",
    "    sp = g.shortest_paths()\n",
    "\n",
    "    cl_dict = []\n",
    "\n",
    "    clusters = [x['cluster'] for x in g.vs]\n",
    "\n",
    "    cl = list(set(clusters))\n",
    "\n",
    "    for c in cl:\n",
    "        nodes = [index for index, value in enumerate(clusters) if value == c]\n",
    "        l = len(nodes)\n",
    "        cl_dict.append({'cluster':c,'nodes':nodes,'l':l})\n",
    "\n",
    "    w, h = len(cl)+1,len(cl)+1;\n",
    "    cmat = [[0 for x in range(w)] for y in range(h)] \n",
    "\n",
    "    # for each cluster\n",
    "    for index,c in enumerate(cl_dict):\n",
    "        cnodes = [sp[i] for i in cl_dict[index]['nodes']]\n",
    "        for cindex,cc in enumerate(cl):\n",
    "            means = []\n",
    "            for j in cnodes:\n",
    "                means.append(np.mean([j[i] for i in cl_dict[cindex]['nodes']]))\n",
    "            c['cluster_distance_{}'.format(cc)] = np.mean(means)\n",
    "            cmat[index+1][cindex+1] = np.mean(means)\n",
    "            \n",
    "    return( cmat )\n",
    "\n",
    "\n",
    "def cluster_centrality(g):\n",
    "\n",
    "    clusters = [x['cluster'] for x in g.vs]\n",
    "    cl = list(set(clusters))\n",
    "\n",
    "    c_cent = []\n",
    "\n",
    "    degr = g.degree()\n",
    "    betw = g.betweenness()\n",
    "\n",
    "    for c in cl:\n",
    "        nodes = [index for index, value in enumerate(clusters) if value == c]\n",
    "        nc = [betw[i] for i in nodes]\n",
    "        d = [degr[i] for i in nodes]\n",
    "        c_cent.append({\n",
    "            'cluster': c,\n",
    "            'betweenness': np.mean(nc),\n",
    "            'degree': np.mean(d)\n",
    "        })\n",
    "\n",
    "    return(c_cent)\n",
    "\n",
    "           \n",
    "    \n",
    "def network_centrality(g):\n",
    "    df = pd.DataFrame()\n",
    "\n",
    "    df['label'] = g.vs['label']\n",
    "    df['cluster'] = g.vs['cluster']\n",
    "    df['betweenness'] = g.betweenness()\n",
    "    df['norm_cit_score'] = g.vs['score<norm._citations>']\n",
    "    df['degree'] = g.degree()\n",
    "    \n",
    "    return(df)\n"
   ]
  },
  {
   "cell_type": "code",
   "execution_count": 180,
   "metadata": {
    "collapsed": false,
    "deletable": true,
    "editable": true
   },
   "outputs": [
    {
     "data": {
      "image/png": "[encoded data removed]",
      "text/plain": [
       "<matplotlib.figure.Figure at 0x7f0b5cebee48>"
      ]
     },
     "metadata": {},
     "output_type": "display_data"
    },
    {
     "data": {
      "text/html": [
       "<div>\n",
       "<table border=\"1\" class=\"dataframe\">\n",
       "  <thead>\n",
       "    <tr style=\"text-align: right;\">\n",
       "      <th></th>\n",
       "      <th>1</th>\n",
       "      <th>2</th>\n",
       "      <th>3</th>\n",
       "      <th>4</th>\n",
       "      <th>5</th>\n",
       "    </tr>\n",
       "  </thead>\n",
       "  <tbody>\n",
       "    <tr>\n",
       "      <th>1</th>\n",
       "      <td>1.736805</td>\n",
       "      <td>2.055990</td>\n",
       "      <td>2.627179</td>\n",
       "      <td>2.560577</td>\n",
       "      <td>2.586667</td>\n",
       "    </tr>\n",
       "    <tr>\n",
       "      <th>2</th>\n",
       "      <td>2.055990</td>\n",
       "      <td>1.632357</td>\n",
       "      <td>2.761202</td>\n",
       "      <td>2.795594</td>\n",
       "      <td>2.426230</td>\n",
       "    </tr>\n",
       "    <tr>\n",
       "      <th>3</th>\n",
       "      <td>2.627179</td>\n",
       "      <td>2.761202</td>\n",
       "      <td>1.298333</td>\n",
       "      <td>3.210938</td>\n",
       "      <td>2.498889</td>\n",
       "    </tr>\n",
       "    <tr>\n",
       "      <th>4</th>\n",
       "      <td>2.560577</td>\n",
       "      <td>2.795594</td>\n",
       "      <td>3.210938</td>\n",
       "      <td>2.205078</td>\n",
       "      <td>3.312500</td>\n",
       "    </tr>\n",
       "    <tr>\n",
       "      <th>5</th>\n",
       "      <td>2.586667</td>\n",
       "      <td>2.426230</td>\n",
       "      <td>2.498889</td>\n",
       "      <td>3.312500</td>\n",
       "      <td>2.257778</td>\n",
       "    </tr>\n",
       "  </tbody>\n",
       "</table>\n",
       "</div>"
      ],
      "text/plain": [
       "          1         2         3         4         5\n",
       "1  1.736805  2.055990  2.627179  2.560577  2.586667\n",
       "2  2.055990  1.632357  2.761202  2.795594  2.426230\n",
       "3  2.627179  2.761202  1.298333  3.210938  2.498889\n",
       "4  2.560577  2.795594  3.210938  2.205078  3.312500\n",
       "5  2.586667  2.426230  2.498889  3.312500  2.257778"
      ]
     },
     "execution_count": 180,
     "metadata": {},
     "output_type": "execute_result"
    }
   ],
   "source": [
    "df1 = pd.DataFrame(cluster_distance(g1)).iloc[1:,1:]\n",
    "\n",
    "ax = sns.heatmap(df1)\n",
    "\n",
    "plt.savefig('../bib_data/1990-2005/cluster_distance.png',bbox_inches='tight', width=8,height=5)\n",
    "\n",
    "plt.show()\n",
    "\n",
    "df1.to_excel('../bib_data/1990-2005/cluster_distance.xlsx')\n",
    "\n",
    "df1.head()\n"
   ]
  },
  {
   "cell_type": "code",
   "execution_count": 182,
   "metadata": {
    "collapsed": false,
    "deletable": true,
    "editable": true
   },
   "outputs": [
    {
     "data": {
      "image/png": "[encoded data removed]",
      "text/plain": [
       "<matplotlib.figure.Figure at 0x7f0b5cf42780>"
      ]
     },
     "metadata": {},
     "output_type": "display_data"
    },
    {
     "data": {
      "text/html": [
       "<div>\n",
       "<table border=\"1\" class=\"dataframe\">\n",
       "  <thead>\n",
       "    <tr style=\"text-align: right;\">\n",
       "      <th></th>\n",
       "      <th>1</th>\n",
       "      <th>2</th>\n",
       "      <th>3</th>\n",
       "      <th>4</th>\n",
       "      <th>5</th>\n",
       "      <th>6</th>\n",
       "      <th>7</th>\n",
       "    </tr>\n",
       "  </thead>\n",
       "  <tbody>\n",
       "    <tr>\n",
       "      <th>1</th>\n",
       "      <td>1.868069</td>\n",
       "      <td>1.931001</td>\n",
       "      <td>2.291930</td>\n",
       "      <td>2.776809</td>\n",
       "      <td>2.457727</td>\n",
       "      <td>2.521126</td>\n",
       "      <td>2.120864</td>\n",
       "    </tr>\n",
       "    <tr>\n",
       "      <th>2</th>\n",
       "      <td>1.931001</td>\n",
       "      <td>1.588113</td>\n",
       "      <td>2.194926</td>\n",
       "      <td>2.672641</td>\n",
       "      <td>2.414359</td>\n",
       "      <td>2.396761</td>\n",
       "      <td>1.941045</td>\n",
       "    </tr>\n",
       "    <tr>\n",
       "      <th>3</th>\n",
       "      <td>2.291930</td>\n",
       "      <td>2.194926</td>\n",
       "      <td>1.982432</td>\n",
       "      <td>2.846640</td>\n",
       "      <td>2.333364</td>\n",
       "      <td>2.062191</td>\n",
       "      <td>2.093826</td>\n",
       "    </tr>\n",
       "    <tr>\n",
       "      <th>4</th>\n",
       "      <td>2.776809</td>\n",
       "      <td>2.672641</td>\n",
       "      <td>2.846640</td>\n",
       "      <td>2.491719</td>\n",
       "      <td>2.973069</td>\n",
       "      <td>2.942493</td>\n",
       "      <td>2.796127</td>\n",
       "    </tr>\n",
       "    <tr>\n",
       "      <th>5</th>\n",
       "      <td>2.457727</td>\n",
       "      <td>2.414359</td>\n",
       "      <td>2.333364</td>\n",
       "      <td>2.973069</td>\n",
       "      <td>1.474379</td>\n",
       "      <td>2.416337</td>\n",
       "      <td>2.391340</td>\n",
       "    </tr>\n",
       "    <tr>\n",
       "      <th>6</th>\n",
       "      <td>2.521126</td>\n",
       "      <td>2.396761</td>\n",
       "      <td>2.062191</td>\n",
       "      <td>2.942493</td>\n",
       "      <td>2.416337</td>\n",
       "      <td>1.353905</td>\n",
       "      <td>2.169406</td>\n",
       "    </tr>\n",
       "    <tr>\n",
       "      <th>7</th>\n",
       "      <td>2.120864</td>\n",
       "      <td>1.941045</td>\n",
       "      <td>2.093826</td>\n",
       "      <td>2.796127</td>\n",
       "      <td>2.391340</td>\n",
       "      <td>2.169406</td>\n",
       "      <td>1.232500</td>\n",
       "    </tr>\n",
       "  </tbody>\n",
       "</table>\n",
       "</div>"
      ],
      "text/plain": [
       "          1         2         3         4         5         6         7\n",
       "1  1.868069  1.931001  2.291930  2.776809  2.457727  2.521126  2.120864\n",
       "2  1.931001  1.588113  2.194926  2.672641  2.414359  2.396761  1.941045\n",
       "3  2.291930  2.194926  1.982432  2.846640  2.333364  2.062191  2.093826\n",
       "4  2.776809  2.672641  2.846640  2.491719  2.973069  2.942493  2.796127\n",
       "5  2.457727  2.414359  2.333364  2.973069  1.474379  2.416337  2.391340\n",
       "6  2.521126  2.396761  2.062191  2.942493  2.416337  1.353905  2.169406\n",
       "7  2.120864  1.941045  2.093826  2.796127  2.391340  2.169406  1.232500"
      ]
     },
     "execution_count": 182,
     "metadata": {},
     "output_type": "execute_result"
    }
   ],
   "source": [
    "df2 = pd.DataFrame(cluster_distance(g2)).iloc[1:8,1:8]\n",
    "\n",
    "ax = sns.heatmap(df2)\n",
    "\n",
    "plt.savefig('../bib_data/1990-2017/cluster_distance',bbox_inches='tight', width=8,height=5)\n",
    "\n",
    "plt.show()\n",
    "\n",
    "\n",
    "df2.to_excel('../bib_data/1990-2017/cluster_distance.xlsx')\n",
    "\n",
    "df2.head(10)"
   ]
  },
  {
   "cell_type": "code",
   "execution_count": 142,
   "metadata": {
    "collapsed": false,
    "deletable": true,
    "editable": true
   },
   "outputs": [],
   "source": [
    "c1 = pd.DataFrame(cluster_centrality(g1))\n",
    "\n",
    "c1.to_excel('../bib_data/1990-2005/cluster_centrality.xlsx')\n",
    "\n",
    "c2 = pd.DataFrame(cluster_centrality(g2))\n",
    "\n",
    "c2.to_excel('../bib_data/1990-2017/cluster_centrality.xlsx')"
   ]
  },
  {
   "cell_type": "code",
   "execution_count": 165,
   "metadata": {
    "collapsed": false,
    "deletable": true,
    "editable": true
   },
   "outputs": [],
   "source": [
    "d1 = network_centrality(g1)\n",
    "\n",
    "d1.to_excel('../bib_data/1990-2005/network_centrality.xlsx')\n",
    "\n",
    "d2 = network_centrality(g2)\n",
    "\n",
    "d2.to_excel('../bib_data/1990-2017/network_centrality.xlsx')"
   ]
  },
  {
   "cell_type": "code",
   "execution_count": 169,
   "metadata": {
    "collapsed": false,
    "deletable": true,
    "editable": true
   },
   "outputs": [
    {
     "data": {
      "text/plain": [
       "(11, 1572, 6)"
      ]
     },
     "execution_count": 169,
     "metadata": {},
     "output_type": "execute_result"
    }
   ],
   "source": [
    "g2.farthest_points()"
   ]
  },
  {
   "cell_type": "code",
   "execution_count": 177,
   "metadata": {
    "collapsed": false,
    "deletable": true,
    "editable": true
   },
   "outputs": [
    {
     "name": "stdout",
     "output_type": "stream",
     "text": [
      "xu (1995)\n",
      "1.0\n",
      "hao (2011)\n",
      "4.0\n"
     ]
    }
   ],
   "source": [
    "print(g2.vs['label'][11])\n",
    "print(g2.vs['cluster'][11])\n",
    "print(g2.vs['label'][1572])\n",
    "print(g2.vs['cluster'][1572])"
   ]
  }
 ],
 "metadata": {
  "kernelspec": {
   "display_name": "Python 3",
   "language": "python",
   "name": "python3"
  },
  "language_info": {
   "codemirror_mode": {
    "name": "ipython",
    "version": 3
   },
   "file_extension": ".py",
   "mimetype": "text/x-python",
   "name": "python",
   "nbconvert_exporter": "python",
   "pygments_lexer": "ipython3",
   "version": "3.4.3"
  }
 },
 "nbformat": 4,
 "nbformat_minor": 2
}
