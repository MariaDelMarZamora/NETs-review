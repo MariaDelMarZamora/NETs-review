{
 "cells": [
  {
   "cell_type": "code",
   "execution_count": 1,
   "metadata": {
    "collapsed": false,
    "deletable": true,
    "editable": true
   },
   "outputs": [],
   "source": [
    "import django, os, sys, time, resource, re, gc, shutil\n",
    "import numpy as np\n",
    "import matplotlib.pyplot as plt\n",
    "import pandas as pd\n",
    "from django.db.models import Count, Avg, F, Sum\n",
    "import math\n",
    "\n",
    "sys.path.append('/home/galm/software/django/tmv/BasicBrowser/')\n",
    "\n",
    "os.environ.setdefault(\"DJANGO_SETTINGS_MODULE\", \"BasicBrowser.settings\")\n",
    "django.setup()\n",
    "\n",
    "from scoping.models import *\n",
    "from utils.utils import ars\n",
    "\n",
    "qid = 1558\n",
    "q = Query.objects.get(pk=qid)\n"
   ]
  },
  {
   "cell_type": "code",
   "execution_count": 2,
   "metadata": {
    "collapsed": false,
    "deletable": true,
    "editable": true
   },
   "outputs": [
    {
     "name": "stdout",
     "output_type": "stream",
     "text": [
      "<QuerySet [<Technology: Soil Carbon Sequestration>, <Technology: Ocean Alkalinisation>, <Technology: Afforestation/reforestation>, <Technology: Biochar>, <Technology: Direct Air Capture>, <Technology: Ocean fertilisation>, <Technology: Enhanced Weathering>, <Technology: NETs - General>, <Technology: BECCS>]>\n"
     ]
    }
   ],
   "source": [
    "\n",
    "p = Project.objects.get(title=\"NETs\")\n",
    "pdocs = Doc.objects.filter(query__project=p)\n",
    "\n",
    "techs = Technology.objects.filter(project=p).exclude(\n",
    "    name__in=[\"Bioenergy\",\"Geological Storage\",\"Blue Carbon\",\"Ethics & Morals\"]\n",
    ")\n",
    "#techs = Technology.objects.filter(project=p)\n",
    "\n",
    "print(techs)\n",
    "\n",
    "\n",
    "trdocs = set(list(pdocs.filter(\n",
    "    docownership__relevant=1,\n",
    "    docownership__query__technology__in=techs\n",
    ").values_list('UT',flat=True)))\n",
    "\n",
    "ttdocs = set(list(Doc.objects.filter(\n",
    "    technology__in=techs\n",
    ").values_list('UT',flat=True)))"
   ]
  },
  {
   "cell_type": "code",
   "execution_count": 3,
   "metadata": {
    "collapsed": false,
    "deletable": true,
    "editable": true,
    "scrolled": true
   },
   "outputs": [
    {
     "name": "stdout",
     "output_type": "stream",
     "text": [
      "1792\n",
      "241\n",
      "1968\n",
      "1977\n",
      "Production of synthetic methanol from air and water using controlled thermonuclear reactor power-I. technology and energy requirement\n",
      "3\n"
     ]
    }
   ],
   "source": [
    "print(len(trdocs))\n",
    "print(len(ttdocs))\n",
    "\n",
    "allreldocs =  Doc.objects.filter(\n",
    "    UT__in=trdocs.union(ttdocs)\n",
    ")\n",
    "\n",
    "print(allreldocs.count())\n",
    "\n",
    "print(allreldocs.order_by('PY').first().PY)\n",
    "print(allreldocs.order_by('PY').first().title)\n",
    "\n",
    "print(allreldocs.filter(PY__lt=1990).count())"
   ]
  },
  {
   "cell_type": "code",
   "execution_count": 4,
   "metadata": {
    "collapsed": false,
    "deletable": true,
    "editable": true
   },
   "outputs": [
    {
     "data": {
      "text/plain": [
       "<QuerySet [<Query: NETS_scopus_retry_y1>, <Query: ccs storage final both>, <Query: CCS storage>, <Query: ccs storage_both>, <Query: climate_all>, <Query: scopus_all>, <Query: CCS storage_scopus>, <Query: NETS_all_relevant>, <Query: NETS_scopus>]>"
      ]
     },
     "execution_count": 4,
     "metadata": {},
     "output_type": "execute_result"
    }
   ],
   "source": [
    "qdocs = Doc.objects.filter(query=q)\n",
    "ard_ids = allreldocs.values_list('UT',flat=True)\n",
    "\n",
    "badocs = qdocs.exclude(UT__in=ard_ids)\n",
    "\n",
    "badocs[0].query.all()"
   ]
  },
  {
   "cell_type": "code",
   "execution_count": 5,
   "metadata": {
    "collapsed": false,
    "deletable": true,
    "editable": true
   },
   "outputs": [
    {
     "data": {
      "text/html": [
       "<div>\n",
       "<table border=\"1\" class=\"dataframe\">\n",
       "  <thead>\n",
       "    <tr style=\"text-align: right;\">\n",
       "      <th></th>\n",
       "      <th>PY</th>\n",
       "      <th>ar</th>\n",
       "      <th>ar_name</th>\n",
       "      <th>n</th>\n",
       "    </tr>\n",
       "  </thead>\n",
       "  <tbody>\n",
       "    <tr>\n",
       "      <th>22</th>\n",
       "      <td>2012</td>\n",
       "      <td>5</td>\n",
       "      <td>AR5</td>\n",
       "      <td>160</td>\n",
       "    </tr>\n",
       "    <tr>\n",
       "      <th>23</th>\n",
       "      <td>2013</td>\n",
       "      <td>5</td>\n",
       "      <td>AR5</td>\n",
       "      <td>189</td>\n",
       "    </tr>\n",
       "    <tr>\n",
       "      <th>24</th>\n",
       "      <td>2014</td>\n",
       "      <td>6</td>\n",
       "      <td>AR6</td>\n",
       "      <td>196</td>\n",
       "    </tr>\n",
       "    <tr>\n",
       "      <th>25</th>\n",
       "      <td>2015</td>\n",
       "      <td>6</td>\n",
       "      <td>AR6</td>\n",
       "      <td>213</td>\n",
       "    </tr>\n",
       "    <tr>\n",
       "      <th>26</th>\n",
       "      <td>2016</td>\n",
       "      <td>6</td>\n",
       "      <td>AR6</td>\n",
       "      <td>261</td>\n",
       "    </tr>\n",
       "  </tbody>\n",
       "</table>\n",
       "</div>"
      ],
      "text/plain": [
       "      PY  ar ar_name    n\n",
       "22  2012   5     AR5  160\n",
       "23  2013   5     AR5  189\n",
       "24  2014   6     AR6  196\n",
       "25  2015   6     AR6  213\n",
       "26  2016   6     AR6  261"
      ]
     },
     "execution_count": 5,
     "metadata": {},
     "output_type": "execute_result"
    }
   ],
   "source": [
    "bypy = allreldocs.filter(\n",
    "       PY__in=range(1989,2017)\n",
    ").values('PY').annotate(\n",
    "    n = Count('UT', distinct=True)\n",
    ").order_by('PY')\n",
    "\n",
    "for py in bypy:\n",
    "    for ar in ars:\n",
    "        if py['PY'] in ar['years']:\n",
    "            py['ar'] = ar['n']\n",
    "            py['ar_name'] = ar['name']\n",
    "\n",
    "bypy = pd.DataFrame.from_dict(list(bypy))\n",
    "\n",
    "bypy.head()\n",
    "\n",
    "bypy.tail()\n"
   ]
  },
  {
   "cell_type": "code",
   "execution_count": 6,
   "metadata": {
    "collapsed": false,
    "deletable": true,
    "editable": true
   },
   "outputs": [],
   "source": [
    "doc_dict = []\n",
    "\n",
    "ts = techs\n",
    "\n",
    "#allreldocs = Doc.objects.filter(query=q)\n",
    "pys = list(range(1988,2017))\n",
    "for t in ts:\n",
    "    for py in pys:\n",
    "        ydocs = allreldocs.filter(PY=py)\n",
    "        trdocs = set(list(ydocs.filter(\n",
    "            query__technology=t,docownership__relevant=1,docownership__query__technology=t\n",
    "        ).values_list('UT',flat=True)))\n",
    "        ttdocs = set(list(ydocs.filter(\n",
    "            technology=t\n",
    "        ).values_list('UT',flat=True)))\n",
    "        tdocs = Doc.objects.filter(\n",
    "            UT__in=trdocs.union(ttdocs)\n",
    "        )\n",
    "        d = {\n",
    "            'Technology': t.name,\n",
    "            'PY': py,\n",
    "            'n': tdocs.count()\n",
    "        }\n",
    "        doc_dict.append(d)\n",
    "        \n",
    "for py in doc_dict:\n",
    "    for ar in ars:\n",
    "        if py['PY'] in ar['years']:\n",
    "            py['ar'] = ar['n']\n",
    "            py['ar_name'] = ar['name']\n",
    "\n",
    "        \n",
    "df = pd.DataFrame.from_dict(doc_dict)\n",
    "\n",
    "techorder = list(techs.order_by('-ndocs').values_list('name',flat=True))\n",
    "\n",
    "\n",
    "df['Technology'] = pd.Categorical(\n",
    "    df['Technology'],\n",
    "    techorder\n",
    ")\n",
    "\n",
    "df['ysum'] = df['n'].groupby(df['PY']).transform('sum')\n",
    "\n",
    "df['share'] = df['n'] / df['ysum'] * 100"
   ]
  },
  {
   "cell_type": "code",
   "execution_count": 7,
   "metadata": {
    "collapsed": false,
    "deletable": true,
    "editable": true
   },
   "outputs": [
    {
     "data": {
      "text/html": [
       "<div>\n",
       "<table border=\"1\" class=\"dataframe\">\n",
       "  <thead>\n",
       "    <tr style=\"text-align: right;\">\n",
       "      <th></th>\n",
       "      <th>PY</th>\n",
       "      <th>Technology</th>\n",
       "      <th>ar</th>\n",
       "      <th>ar_name</th>\n",
       "      <th>n</th>\n",
       "      <th>ysum</th>\n",
       "      <th>share</th>\n",
       "    </tr>\n",
       "  </thead>\n",
       "  <tbody>\n",
       "    <tr>\n",
       "      <th>59</th>\n",
       "      <td>1989</td>\n",
       "      <td>Afforestation/reforestation</td>\n",
       "      <td>1</td>\n",
       "      <td>AR1</td>\n",
       "      <td>1</td>\n",
       "      <td>1</td>\n",
       "      <td>100.0</td>\n",
       "    </tr>\n",
       "  </tbody>\n",
       "</table>\n",
       "</div>"
      ],
      "text/plain": [
       "      PY                   Technology  ar ar_name  n  ysum  share\n",
       "59  1989  Afforestation/reforestation   1     AR1  1     1  100.0"
      ]
     },
     "execution_count": 7,
     "metadata": {},
     "output_type": "execute_result"
    }
   ],
   "source": [
    "df[(df['PY']<1990) & (df['n']>0)]\n",
    "#df.head()"
   ]
  },
  {
   "cell_type": "code",
   "execution_count": 8,
   "metadata": {
    "collapsed": true,
    "deletable": true,
    "editable": true
   },
   "outputs": [],
   "source": [
    "\n",
    "ardf = df[['Technology','ar_name','n']].groupby(['ar_name','Technology']).sum()\n",
    "\n",
    "ardf = ardf.reset_index()\n",
    "\n",
    "ardf['ysum'] = ardf['n'].groupby(ardf['ar_name']).transform('sum')\n",
    "\n",
    "ardf['share'] = ardf['n'] / ardf['ysum'] * 100"
   ]
  },
  {
   "cell_type": "code",
   "execution_count": 17,
   "metadata": {
    "collapsed": false,
    "deletable": true,
    "editable": true
   },
   "outputs": [
    {
     "name": "stderr",
     "output_type": "stream",
     "text": [
      "/usr/local/lib/python3.4/dist-packages/matplotlib/axes/_axes.py:545: UserWarning: No labelled objects found. Use label='...' kwarg on individual plots.\n",
      "  warnings.warn(\"No labelled objects found. \"\n"
     ]
    },
    {
     "data": {
      "image/png": "[encoded data removed]",
      "text/plain": [
       "<matplotlib.figure.Figure at 0x7fb4c4b917b8>"
      ]
     },
     "metadata": {},
     "output_type": "display_data"
    },
    {
     "data": {
      "image/png": "[encoded data removed]",
      "text/plain": [
       "<matplotlib.figure.Figure at 0x7fb4c4979ef0>"
      ]
     },
     "metadata": {},
     "output_type": "display_data"
    }
   ],
   "source": [
    "\n",
    "plt.rcParams[\"figure.figsize\"] = [12,10]\n",
    "\n",
    "fig, axs = plt.subplots(2,1)\n",
    "\n",
    "ax = axs[0]\n",
    "\n",
    "ax2 = axs[1]\n",
    "\n",
    "pdf = df.pivot(\n",
    "    index='PY',\n",
    "    columns='Technology',\n",
    "    values='n'\n",
    ")\n",
    "\n",
    "\n",
    "pdf.plot.bar(\n",
    "    stacked=True, \n",
    "    ax=ax,\n",
    "    legend=False,    \n",
    "    lw=1,\n",
    "    edgecolor='grey'#,\n",
    "    #align='center'\n",
    ")\n",
    "\n",
    "handles, labels = ax.get_legend_handles_labels()\n",
    "\n",
    "ax.xaxis.set_ticks([2,7,12,17,22,27])\n",
    "ax.xaxis.set_ticklabels([1990,1995,2000,2005,2010,2015])\n",
    "\n",
    "for tick in ax.get_xticklabels():\n",
    "    tick.set_rotation(0)\n",
    "\n",
    "ax.legend(handles[::-1], labels[::-1],title='Technology')\n",
    "\n",
    "ax.set_xlabel('Year')\n",
    "ax.set_ylabel('Number of Publications on Technology')\n",
    "\n",
    "ax.grid(True)\n",
    "\n",
    "ax.set_xlim(xmax=29.5)\n",
    "ax.set_xlim(xmin=0)\n",
    "ax.set_ylim(ymax=350)\n",
    "\n",
    "mids = []\n",
    "\n",
    "for name, group in bypy.groupby('ar_name'):\n",
    "    count = \"[{}]\".format(group['n'].sum())\n",
    "    miny = group['PY'].min() - 1988\n",
    "    maxy = group['PY'].max() - 1988\n",
    "    width = maxy-miny + 1.4\n",
    "    mid = group['PY'].median() - 1988\n",
    "    mids.append(mid)\n",
    "    maxn = group['n'].max() + 60\n",
    "    #ax.text(mid,maxn,count,ha=\"center\")\n",
    "    ar = group['ar'].max()\n",
    "    ax.annotate(\n",
    "        count,\n",
    "        xy=(mid,maxn),\n",
    "        xytext=(mid,maxn+10),\n",
    "        ha=\"center\",\n",
    "        arrowprops=dict(arrowstyle='-[, widthB={}, lengthB=1.5'.format(width), lw=2.0)\n",
    "    )\n",
    "    art = ardf[ardf['ar_name']==name]\n",
    "    b = 0\n",
    "    h = 0\n",
    "    for t in techorder:\n",
    "        v = art[art['Technology']==t]\n",
    "        if not v.empty:\n",
    "            v = float(v['share'])\n",
    "            ax2.bar(\n",
    "                mid,v,bottom=b,align=\"center\",\n",
    "                width=width*0.4,color=handles[h].patches[0]._facecolor\n",
    "            )        \n",
    "            if v > 10:\n",
    "                ax2.text(mid+width*0.2+0.1,b+v*0.5,\"{}%\".format(round(v)),va=\"center\")\n",
    "            b+=v\n",
    "        h+=1\n",
    "\n",
    "ax = ax2\n",
    "\n",
    "for tick in ax.get_xticklabels():\n",
    "    tick.set_rotation(0)\n",
    "\n",
    "\n",
    "legend = ax.legend()#handles[::-1], labels[::-1],title='Technology')\n",
    "#legend.remove()\n",
    "\n",
    "ax.xaxis.set_ticks(mids)\n",
    "ax.xaxis.set_ticklabels([\"AR1\",\"AR2\",\"AR3\",\"AR4\",\"AR5\",\"AR6\"])\n",
    "\n",
    "ax.set_xlabel('Assessment Period')\n",
    "ax.set_ylabel('Share of Publications on Technology')\n",
    "\n",
    "ax.set_xlim(xmax=29.5)\n",
    "ax.set_xlim(xmin=0)\n",
    "\n",
    "plt.savefig('plots/general/all_ars.png',bbox_inches='tight') \n",
    "\n",
    "plt.show()\n",
    "\n",
    "\n"
   ]
  },
  {
   "cell_type": "code",
   "execution_count": null,
   "metadata": {
    "collapsed": false,
    "deletable": true,
    "editable": true
   },
   "outputs": [],
   "source": []
  },
  {
   "cell_type": "code",
   "execution_count": null,
   "metadata": {
    "collapsed": false,
    "deletable": true,
    "editable": true
   },
   "outputs": [],
   "source": []
  },
  {
   "cell_type": "code",
   "execution_count": null,
   "metadata": {
    "collapsed": false,
    "deletable": true,
    "editable": true
   },
   "outputs": [],
   "source": []
  },
  {
   "cell_type": "code",
   "execution_count": 10,
   "metadata": {
    "collapsed": false,
    "deletable": true,
    "editable": true
   },
   "outputs": [
    {
     "data": {
      "text/html": [
       "<div>\n",
       "<table border=\"1\" class=\"dataframe\">\n",
       "  <thead>\n",
       "    <tr style=\"text-align: right;\">\n",
       "      <th></th>\n",
       "      <th>n</th>\n",
       "      <th>ysum</th>\n",
       "      <th>share</th>\n",
       "    </tr>\n",
       "    <tr>\n",
       "      <th>ar_name</th>\n",
       "      <th></th>\n",
       "      <th></th>\n",
       "      <th></th>\n",
       "    </tr>\n",
       "  </thead>\n",
       "  <tbody>\n",
       "    <tr>\n",
       "      <th>AR1</th>\n",
       "      <td>1</td>\n",
       "      <td>9</td>\n",
       "      <td>100.0</td>\n",
       "    </tr>\n",
       "    <tr>\n",
       "      <th>AR2</th>\n",
       "      <td>35</td>\n",
       "      <td>315</td>\n",
       "      <td>100.0</td>\n",
       "    </tr>\n",
       "    <tr>\n",
       "      <th>AR3</th>\n",
       "      <td>72</td>\n",
       "      <td>648</td>\n",
       "      <td>100.0</td>\n",
       "    </tr>\n",
       "    <tr>\n",
       "      <th>AR4</th>\n",
       "      <td>328</td>\n",
       "      <td>2952</td>\n",
       "      <td>100.0</td>\n",
       "    </tr>\n",
       "    <tr>\n",
       "      <th>AR5</th>\n",
       "      <td>912</td>\n",
       "      <td>8208</td>\n",
       "      <td>100.0</td>\n",
       "    </tr>\n",
       "    <tr>\n",
       "      <th>AR6</th>\n",
       "      <td>746</td>\n",
       "      <td>6714</td>\n",
       "      <td>100.0</td>\n",
       "    </tr>\n",
       "  </tbody>\n",
       "</table>\n",
       "</div>"
      ],
      "text/plain": [
       "           n  ysum  share\n",
       "ar_name                  \n",
       "AR1        1     9  100.0\n",
       "AR2       35   315  100.0\n",
       "AR3       72   648  100.0\n",
       "AR4      328  2952  100.0\n",
       "AR5      912  8208  100.0\n",
       "AR6      746  6714  100.0"
      ]
     },
     "execution_count": 10,
     "metadata": {},
     "output_type": "execute_result"
    }
   ],
   "source": [
    "ardf.groupby('ar_name').sum()"
   ]
  },
  {
   "cell_type": "code",
   "execution_count": null,
   "metadata": {
    "collapsed": false,
    "deletable": true,
    "editable": true
   },
   "outputs": [],
   "source": []
  },
  {
   "cell_type": "code",
   "execution_count": 11,
   "metadata": {
    "collapsed": false,
    "deletable": true,
    "editable": true
   },
   "outputs": [
    {
     "name": "stdout",
     "output_type": "stream",
     "text": [
      "AR1\n",
      "AR2\n",
      "AR3\n",
      "AR4\n",
      "AR5\n",
      "AR6\n"
     ]
    },
    {
     "data": {
      "text/plain": [
       "<matplotlib.figure.Figure at 0x7fb4c009d860>"
      ]
     },
     "metadata": {},
     "output_type": "display_data"
    }
   ],
   "source": [
    "import matplotlib.patches as mpatches\n",
    "\n",
    "pdf = bypy.set_index('PY')\n",
    "colors = {\n",
    "    0: '#8dd3c7', \n",
    "    1: '#d53e4f', \n",
    "    2: '#fc8d59', \n",
    "    3: '#fee08b', \n",
    "    4: '#e6f598', \n",
    "    5: '#99d594', \n",
    "    6: '#3288bd'\n",
    "}\n",
    "\n",
    "#d53e4f\n",
    "#fc8d59\n",
    "#fee08b\n",
    "#e6f598\n",
    "#99d594\n",
    "#3288bd\n",
    "\n",
    "#pdf['n'].plot.bar(color=[colors[int(x)] for x in list(pdf['ar'])])\n",
    "\n",
    "#fig, ax = plt.subplots()\n",
    "\n",
    "ax = axs[0]\n",
    "\n",
    "ax.grid(True)\n",
    "\n",
    "ax.bar(\n",
    "    bypy.PY,\n",
    "    bypy.n, \n",
    "    lw=1,\n",
    "    edgecolor='grey',\n",
    "    color=[colors[int(x)] for x in list(pdf['ar'])] \n",
    ")\n",
    "\n",
    "handles = []\n",
    "labels = []\n",
    "for name, group in bypy.groupby('ar_name'):\n",
    "    print(name)\n",
    "    count = \"[{}]\".format(group['n'].sum())\n",
    "    mid = group['PY'].median()\n",
    "    maxn = group['n'].max() + 15\n",
    "    ax.text(mid,maxn,count,ha=\"center\")\n",
    "    ar = group['ar'].max()\n",
    "    handles.append(mpatches.Patch(color=colors[ar], label=name))\n",
    "    \n",
    "ax.legend(handles=handles, title='Assessment Period')\n",
    "    \n",
    "#plt.legend(handles=handles, title=\"Assessment Period\")\n",
    "    \n",
    "ax.set_ylim(ymax=300) \n",
    "\n",
    "\n",
    "ax.set_xlabel('Year')\n",
    "ax.set_ylabel('Number of Publications')\n",
    "plt.savefig('plots/general/all_ars.png',bbox_inches='tight') \n",
    "plt.show()"
   ]
  },
  {
   "cell_type": "code",
   "execution_count": 12,
   "metadata": {
    "collapsed": false,
    "deletable": true,
    "editable": true
   },
   "outputs": [
    {
     "data": {
      "text/plain": [
       "(-0.5, 29.5)"
      ]
     },
     "execution_count": 12,
     "metadata": {},
     "output_type": "execute_result"
    }
   ],
   "source": [
    "plt.rcParams[\"figure.figsize\"] = [12,7.5]\n",
    "\n",
    "pdf = df.pivot(\n",
    "    index='PY',\n",
    "    columns='Technology',\n",
    "    values='n'\n",
    ")\n",
    "\n",
    "fig, axs = plt.subplots(1,2)\n",
    "\n",
    "ax = axs[0]\n",
    "\n",
    "pdf.plot.bar(\n",
    "    stacked=True, \n",
    "    ax=ax,\n",
    "    legend=False,    \n",
    "    lw=1,\n",
    "    edgecolor='grey'\n",
    ")\n",
    "\n",
    "handles, labels = ax.get_legend_handles_labels()\n",
    "#lpos = (0.85,2.5)\n",
    "\n",
    "#ax.locator_params(nbins=10, axis='x')\n",
    "#ax.tick_params(direction='out', length=6, width=2, colors='r',axis='x')\n",
    "\n",
    "ax.xaxis.set_ticks([2,7,12,17,22,27])\n",
    "ax.xaxis.set_ticklabels([1990,1995,2000,2005,2010,2015])\n",
    "\n",
    "for tick in ax.get_xticklabels():\n",
    "    tick.set_rotation(0)\n",
    "\n",
    "ax.legend(handles[::-1], labels[::-1],title='Technology')\n",
    "\n",
    "ax.set_xlabel('Year')\n",
    "ax.set_ylabel('Number of Publications on Technology')\n",
    "\n",
    "ax.grid(True)\n",
    "\n",
    "ax.set_xlim(xmax=29.5)\n",
    "\n",
    "#plt.savefig('plots/general/by_tech.png',bbox_inches='tight') \n",
    "\n",
    "#plt.show()\n",
    "\n"
   ]
  },
  {
   "cell_type": "code",
   "execution_count": null,
   "metadata": {
    "collapsed": false,
    "deletable": true,
    "editable": true
   },
   "outputs": [],
   "source": []
  },
  {
   "cell_type": "code",
   "execution_count": 13,
   "metadata": {
    "collapsed": false,
    "deletable": true,
    "editable": true
   },
   "outputs": [
    {
     "data": {
      "text/html": [
       "<div>\n",
       "<table border=\"1\" class=\"dataframe\">\n",
       "  <thead>\n",
       "    <tr style=\"text-align: right;\">\n",
       "      <th></th>\n",
       "      <th>5year_compound_annual_growth_16</th>\n",
       "      <th>Sum</th>\n",
       "      <th>Technology</th>\n",
       "    </tr>\n",
       "  </thead>\n",
       "  <tbody>\n",
       "    <tr>\n",
       "      <th>0</th>\n",
       "      <td>14.565943</td>\n",
       "      <td>554</td>\n",
       "      <td>Soil Carbon Sequestration</td>\n",
       "    </tr>\n",
       "    <tr>\n",
       "      <th>1</th>\n",
       "      <td>3.258827</td>\n",
       "      <td>488</td>\n",
       "      <td>Afforestation/reforestation</td>\n",
       "    </tr>\n",
       "    <tr>\n",
       "      <th>4</th>\n",
       "      <td>6.643011</td>\n",
       "      <td>239</td>\n",
       "      <td>BECCS</td>\n",
       "    </tr>\n",
       "    <tr>\n",
       "      <th>5</th>\n",
       "      <td>21.350978</td>\n",
       "      <td>231</td>\n",
       "      <td>NETs - General</td>\n",
       "    </tr>\n",
       "    <tr>\n",
       "      <th>3</th>\n",
       "      <td>-2.328132</td>\n",
       "      <td>218</td>\n",
       "      <td>Ocean fertilisation</td>\n",
       "    </tr>\n",
       "    <tr>\n",
       "      <th>6</th>\n",
       "      <td>11.550670</td>\n",
       "      <td>206</td>\n",
       "      <td>Direct Air Capture</td>\n",
       "    </tr>\n",
       "    <tr>\n",
       "      <th>2</th>\n",
       "      <td>33.032500</td>\n",
       "      <td>99</td>\n",
       "      <td>Biochar</td>\n",
       "    </tr>\n",
       "    <tr>\n",
       "      <th>7</th>\n",
       "      <td>14.869835</td>\n",
       "      <td>39</td>\n",
       "      <td>Enhanced Weathering</td>\n",
       "    </tr>\n",
       "    <tr>\n",
       "      <th>8</th>\n",
       "      <td>NaN</td>\n",
       "      <td>20</td>\n",
       "      <td>Ocean Alkalinisation</td>\n",
       "    </tr>\n",
       "  </tbody>\n",
       "</table>\n",
       "</div>"
      ],
      "text/plain": [
       "   5year_compound_annual_growth_16  Sum                   Technology\n",
       "0                        14.565943  554    Soil Carbon Sequestration\n",
       "1                         3.258827  488  Afforestation/reforestation\n",
       "4                         6.643011  239                        BECCS\n",
       "5                        21.350978  231               NETs - General\n",
       "3                        -2.328132  218          Ocean fertilisation\n",
       "6                        11.550670  206           Direct Air Capture\n",
       "2                        33.032500   99                      Biochar\n",
       "7                        14.869835   39          Enhanced Weathering\n",
       "8                              NaN   20         Ocean Alkalinisation"
      ]
     },
     "execution_count": 13,
     "metadata": {},
     "output_type": "execute_result"
    }
   ],
   "source": [
    "tsums = []\n",
    "\n",
    "for name, group in df.groupby('Technology'):\n",
    "    gsum = group['n'].sum()\n",
    "    try:\n",
    "        g11 = int(group[group['PY']==2011]['n'])\n",
    "    except:\n",
    "        g11 = 0\n",
    "    try:\n",
    "        g16 = int(group[group['PY']==2016]['n'])\n",
    "    except:\n",
    "        g16 = 0\n",
    "    growth = g16 - g11\n",
    "    try:\n",
    "        cagr = (math.pow((g16/g11),(1/5))-1)*100\n",
    "    except:\n",
    "        cagr = np.NaN\n",
    "    tsum = {\n",
    "        'Technology': name,\n",
    "        'Sum': gsum,\n",
    "        '5year_compound_annual_growth_16': cagr \n",
    "    }\n",
    "    tsums.append(tsum)\n",
    "    \n",
    "tsummary = pd.DataFrame.from_dict(tsums)\n",
    "\n",
    "tsummary = tsummary[tsummary['Sum']>0].sort_values('Sum',ascending=False)\n",
    "\n",
    "tsummary.to_excel('tables/tech_totals.xlsx')\n",
    "\n",
    "tsummary.head(15)\n",
    "\n"
   ]
  },
  {
   "cell_type": "code",
   "execution_count": 14,
   "metadata": {
    "collapsed": false,
    "deletable": true,
    "editable": true
   },
   "outputs": [],
   "source": [
    "df.to_excel('tables/tech_year_totals.xlsx')"
   ]
  },
  {
   "cell_type": "code",
   "execution_count": null,
   "metadata": {
    "collapsed": false,
    "deletable": true,
    "editable": true
   },
   "outputs": [],
   "source": []
  },
  {
   "cell_type": "code",
   "execution_count": null,
   "metadata": {
    "collapsed": false,
    "deletable": true,
    "editable": true
   },
   "outputs": [],
   "source": []
  },
  {
   "cell_type": "code",
   "execution_count": 15,
   "metadata": {
    "collapsed": false,
    "deletable": true,
    "editable": true
   },
   "outputs": [
    {
     "data": {
      "text/plain": [
       "[{'n': 0, 'name': 'AR0', 'years': range(0, 1985)},\n",
       " {'n': 1, 'name': 'AR1', 'years': range(1985, 1991)},\n",
       " {'n': 2, 'name': 'AR2', 'years': range(1991, 1995)},\n",
       " {'n': 3, 'name': 'AR3', 'years': range(1995, 2001)},\n",
       " {'n': 4, 'name': 'AR4', 'years': range(2001, 2008)},\n",
       " {'n': 5, 'name': 'AR5', 'years': range(2008, 2014)},\n",
       " {'n': 6, 'name': 'AR6', 'years': range(2014, 9999)}]"
      ]
     },
     "execution_count": 15,
     "metadata": {},
     "output_type": "execute_result"
    }
   ],
   "source": [
    "ars"
   ]
  },
  {
   "cell_type": "code",
   "execution_count": null,
   "metadata": {
    "collapsed": false,
    "deletable": true,
    "editable": true
   },
   "outputs": [],
   "source": []
  },
  {
   "cell_type": "code",
   "execution_count": 16,
   "metadata": {
    "collapsed": false,
    "deletable": true,
    "editable": true
   },
   "outputs": [
    {
     "data": {
      "text/plain": [
       "<matplotlib.colors.LinearSegmentedColormap at 0x7fb4dd8fab38>"
      ]
     },
     "execution_count": 16,
     "metadata": {},
     "output_type": "execute_result"
    }
   ],
   "source": [
    "plt.get_cmap('Spectral')\n"
   ]
  }
 ],
 "metadata": {
  "kernelspec": {
   "display_name": "Python 3",
   "language": "python",
   "name": "python3"
  },
  "language_info": {
   "codemirror_mode": {
    "name": "ipython",
    "version": 3
   },
   "file_extension": ".py",
   "mimetype": "text/x-python",
   "name": "python",
   "nbconvert_exporter": "python",
   "pygments_lexer": "ipython3",
   "version": "3.4.3"
  }
 },
 "nbformat": 4,
 "nbformat_minor": 2
}
