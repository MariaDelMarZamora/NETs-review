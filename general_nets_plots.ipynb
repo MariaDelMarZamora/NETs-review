{
 "cells": [
  {
   "cell_type": "code",
   "execution_count": 127,
   "metadata": {
    "collapsed": false,
    "deletable": true,
    "editable": true
   },
   "outputs": [],
   "source": [
    "import django, os, sys, time, resource, re, gc, shutil\n",
    "import numpy as np\n",
    "import matplotlib.pyplot as plt\n",
    "import pandas as pd\n",
    "from django.db.models import Count, Avg, F, Sum\n",
    "import math\n",
    "\n",
    "sys.path.append('/home/galm/software/django/tmv/BasicBrowser/')\n",
    "\n",
    "os.environ.setdefault(\"DJANGO_SETTINGS_MODULE\", \"BasicBrowser.settings\")\n",
    "django.setup()\n",
    "\n",
    "from scoping.models import *\n",
    "from utils.utils import ars\n",
    "\n",
    "qid = 1558\n",
    "q = Query.objects.get(pk=qid)\n"
   ]
  },
  {
   "cell_type": "code",
   "execution_count": 193,
   "metadata": {
    "collapsed": false,
    "deletable": true,
    "editable": true
   },
   "outputs": [],
   "source": [
    "\n",
    "p = Project.objects.get(title=\"NETs\")\n",
    "pdocs = Doc.objects.filter(query__project=p)\n",
    "\n",
    "techs = Technology.objects.filter(project=p).exclude(name__in=[\"Bioenergy\"])\n",
    "#techs = Technology.objects.filter(project=p)\n",
    "\n",
    "\n",
    "trdocs = set(list(pdocs.filter(\n",
    "    docownership__relevant=1,\n",
    "    docownership__query__technology__in=techs\n",
    ").values_list('UT',flat=True)))\n",
    "\n",
    "ttdocs = set(list(Doc.objects.filter(\n",
    "    technology__in=techs\n",
    ").values_list('UT',flat=True)))"
   ]
  },
  {
   "cell_type": "code",
   "execution_count": 194,
   "metadata": {
    "collapsed": false,
    "deletable": true,
    "editable": true,
    "scrolled": true
   },
   "outputs": [
    {
     "name": "stdout",
     "output_type": "stream",
     "text": [
      "1804\n",
      "254\n",
      "1991\n"
     ]
    }
   ],
   "source": [
    "print(len(trdocs))\n",
    "print(len(ttdocs))\n",
    "\n",
    "allreldocs =  Doc.objects.filter(\n",
    "    UT__in=trdocs.union(ttdocs)\n",
    ")\n",
    "\n",
    "print(allreldocs.count())\n"
   ]
  },
  {
   "cell_type": "code",
   "execution_count": 201,
   "metadata": {
    "collapsed": false
   },
   "outputs": [
    {
     "data": {
      "text/plain": [
       "<QuerySet [<Query: scopus_all>, <Query: climate_all>, <Query: CCS storage_scopus>, <Query: ccs storage_both>, <Query: CCS storage>, <Query: ccs storage final both>, <Query: NETS_all_relevant>, <Query: NETS_scopus>, <Query: NETS_scopus_retry_y2>]>"
      ]
     },
     "execution_count": 201,
     "metadata": {},
     "output_type": "execute_result"
    }
   ],
   "source": [
    "qdocs = Doc.objects.filter(query=q)\n",
    "ard_ids = allreldocs.values_list('UT',flat=True)\n",
    "\n",
    "badocs = qdocs.exclude(UT__in=ard_ids)\n",
    "\n",
    "badocs[0].query.all()"
   ]
  },
  {
   "cell_type": "code",
   "execution_count": 203,
   "metadata": {
    "collapsed": true
   },
   "outputs": [],
   "source": [
    "\n"
   ]
  },
  {
   "cell_type": "code",
   "execution_count": 204,
   "metadata": {
    "collapsed": false,
    "deletable": true,
    "editable": true
   },
   "outputs": [],
   "source": [
    "doc_dict = []\n",
    "\n",
    "ts = Technology.objects.filter(\n",
    "    project=p\n",
    ").exclude(\n",
    "    name__in=['Bioenergy','Ethics & Morals']\n",
    ")\n",
    "\n",
    "#allreldocs = Doc.objects.filter(query=q)\n",
    "pys = list(range(1990,2017))\n",
    "for t in ts:\n",
    "    for py in pys:\n",
    "        ydocs = allreldocs.filter(PY=py)\n",
    "        trdocs = set(list(ydocs.filter(\n",
    "            query__technology=t,docownership__relevant=1,docownership__query__technology=t\n",
    "        ).values_list('UT',flat=True)))\n",
    "        ttdocs = set(list(ydocs.filter(\n",
    "            technology=t\n",
    "        ).values_list('UT',flat=True)))\n",
    "        tdocs = Doc.objects.filter(\n",
    "            UT__in=trdocs.union(ttdocs)\n",
    "        )\n",
    "        d = {\n",
    "            'Technology': t.name,\n",
    "            'PY': py,\n",
    "            'n': tdocs.count()\n",
    "        }\n",
    "        doc_dict.append(d)"
   ]
  },
  {
   "cell_type": "code",
   "execution_count": 205,
   "metadata": {
    "collapsed": false,
    "deletable": true,
    "editable": true
   },
   "outputs": [
    {
     "data": {
      "text/html": [
       "<div>\n",
       "<table border=\"1\" class=\"dataframe\">\n",
       "  <thead>\n",
       "    <tr style=\"text-align: right;\">\n",
       "      <th></th>\n",
       "      <th>PY</th>\n",
       "      <th>Technology</th>\n",
       "      <th>n</th>\n",
       "    </tr>\n",
       "  </thead>\n",
       "  <tbody>\n",
       "    <tr>\n",
       "      <th>0</th>\n",
       "      <td>1990</td>\n",
       "      <td>Enhanced Weathering</td>\n",
       "      <td>0</td>\n",
       "    </tr>\n",
       "    <tr>\n",
       "      <th>1</th>\n",
       "      <td>1991</td>\n",
       "      <td>Enhanced Weathering</td>\n",
       "      <td>0</td>\n",
       "    </tr>\n",
       "    <tr>\n",
       "      <th>2</th>\n",
       "      <td>1992</td>\n",
       "      <td>Enhanced Weathering</td>\n",
       "      <td>0</td>\n",
       "    </tr>\n",
       "    <tr>\n",
       "      <th>3</th>\n",
       "      <td>1993</td>\n",
       "      <td>Enhanced Weathering</td>\n",
       "      <td>0</td>\n",
       "    </tr>\n",
       "    <tr>\n",
       "      <th>4</th>\n",
       "      <td>1994</td>\n",
       "      <td>Enhanced Weathering</td>\n",
       "      <td>0</td>\n",
       "    </tr>\n",
       "  </tbody>\n",
       "</table>\n",
       "</div>"
      ],
      "text/plain": [
       "     PY           Technology  n\n",
       "0  1990  Enhanced Weathering  0\n",
       "1  1991  Enhanced Weathering  0\n",
       "2  1992  Enhanced Weathering  0\n",
       "3  1993  Enhanced Weathering  0\n",
       "4  1994  Enhanced Weathering  0"
      ]
     },
     "execution_count": 205,
     "metadata": {},
     "output_type": "execute_result"
    }
   ],
   "source": [
    "df = pd.DataFrame.from_dict(doc_dict)\n",
    "\n",
    "techorder = list(Technology.objects.filter(project=p).order_by('-ndocs').values_list('name',flat=True))\n",
    "\n",
    "\n",
    "df['Technology'] = pd.Categorical(\n",
    "    df['Technology'],\n",
    "    techorder\n",
    ")\n",
    "\n",
    "df.head()"
   ]
  },
  {
   "cell_type": "code",
   "execution_count": 229,
   "metadata": {
    "collapsed": false,
    "deletable": true,
    "editable": true
   },
   "outputs": [
    {
     "data": {
      "image/png": "[encoded data removed]",
      "text/plain": [
       "<matplotlib.figure.Figure at 0x7f369461a4a8>"
      ]
     },
     "metadata": {},
     "output_type": "display_data"
    }
   ],
   "source": [
    "plt.rcParams[\"figure.figsize\"] = [8,5]\n",
    "\n",
    "pdf = df.pivot(\n",
    "    index='PY',\n",
    "    columns='Technology',\n",
    "    values='n'\n",
    ")\n",
    "\n",
    "fig, ax = plt.subplots()\n",
    "\n",
    "\n",
    "pdf.plot.bar(\n",
    "    stacked=True, \n",
    "    ax=ax,\n",
    "    legend=False,    \n",
    "    lw=1,\n",
    "    edgecolor='grey'\n",
    ")\n",
    "\n",
    "handles, labels = ax.get_legend_handles_labels()\n",
    "#lpos = (0.85,2.5)\n",
    "\n",
    "#ax.locator_params(nbins=10, axis='x')\n",
    "#ax.tick_params(direction='out', length=6, width=2, colors='r',axis='x')\n",
    "\n",
    "ax.xaxis.set_ticks([0,5,10,15,20,25])\n",
    "ax.xaxis.set_ticklabels([1990,1995,2000,2005,2010,2015])\n",
    "\n",
    "ax.legend(handles[::-1], labels[::-1],title='Technology')\n",
    "\n",
    "ax.set_xlabel('Year')\n",
    "ax.set_ylabel('Number of Papers on Technology')\n",
    "\n",
    "ax.grid(True)\n",
    "\n",
    "plt.savefig('plots/general/by_tech.png',bbox_inches='tight') \n",
    "\n",
    "plt.show()\n",
    "\n"
   ]
  },
  {
   "cell_type": "code",
   "execution_count": 206,
   "metadata": {
    "collapsed": false,
    "deletable": true,
    "editable": true
   },
   "outputs": [
    {
     "data": {
      "text/html": [
       "<div>\n",
       "<table border=\"1\" class=\"dataframe\">\n",
       "  <thead>\n",
       "    <tr style=\"text-align: right;\">\n",
       "      <th></th>\n",
       "      <th>5year_compound_annual_growth_16</th>\n",
       "      <th>Sum</th>\n",
       "      <th>Technology</th>\n",
       "    </tr>\n",
       "  </thead>\n",
       "  <tbody>\n",
       "    <tr>\n",
       "      <th>0</th>\n",
       "      <td>14.565943</td>\n",
       "      <td>554</td>\n",
       "      <td>Soil Carbon Sequestration</td>\n",
       "    </tr>\n",
       "    <tr>\n",
       "      <th>1</th>\n",
       "      <td>3.258827</td>\n",
       "      <td>487</td>\n",
       "      <td>Afforestation/reforestation</td>\n",
       "    </tr>\n",
       "    <tr>\n",
       "      <th>4</th>\n",
       "      <td>7.394092</td>\n",
       "      <td>237</td>\n",
       "      <td>BECCS</td>\n",
       "    </tr>\n",
       "    <tr>\n",
       "      <th>5</th>\n",
       "      <td>21.350978</td>\n",
       "      <td>231</td>\n",
       "      <td>Synonyms</td>\n",
       "    </tr>\n",
       "    <tr>\n",
       "      <th>3</th>\n",
       "      <td>-2.328132</td>\n",
       "      <td>218</td>\n",
       "      <td>Ocean fertilisation</td>\n",
       "    </tr>\n",
       "    <tr>\n",
       "      <th>6</th>\n",
       "      <td>11.550670</td>\n",
       "      <td>206</td>\n",
       "      <td>Direct Air Capture</td>\n",
       "    </tr>\n",
       "    <tr>\n",
       "      <th>2</th>\n",
       "      <td>33.032500</td>\n",
       "      <td>99</td>\n",
       "      <td>Biochar</td>\n",
       "    </tr>\n",
       "    <tr>\n",
       "      <th>7</th>\n",
       "      <td>14.869835</td>\n",
       "      <td>39</td>\n",
       "      <td>Enhanced Weathering</td>\n",
       "    </tr>\n",
       "    <tr>\n",
       "      <th>11</th>\n",
       "      <td>NaN</td>\n",
       "      <td>20</td>\n",
       "      <td>Ocean Alkalinisation</td>\n",
       "    </tr>\n",
       "    <tr>\n",
       "      <th>8</th>\n",
       "      <td>8.447177</td>\n",
       "      <td>12</td>\n",
       "      <td>Blue Carbon</td>\n",
       "    </tr>\n",
       "  </tbody>\n",
       "</table>\n",
       "</div>"
      ],
      "text/plain": [
       "    5year_compound_annual_growth_16  Sum                   Technology\n",
       "0                         14.565943  554    Soil Carbon Sequestration\n",
       "1                          3.258827  487  Afforestation/reforestation\n",
       "4                          7.394092  237                        BECCS\n",
       "5                         21.350978  231                     Synonyms\n",
       "3                         -2.328132  218          Ocean fertilisation\n",
       "6                         11.550670  206           Direct Air Capture\n",
       "2                         33.032500   99                      Biochar\n",
       "7                         14.869835   39          Enhanced Weathering\n",
       "11                              NaN   20         Ocean Alkalinisation\n",
       "8                          8.447177   12                  Blue Carbon"
      ]
     },
     "execution_count": 206,
     "metadata": {},
     "output_type": "execute_result"
    }
   ],
   "source": [
    "tsums = []\n",
    "\n",
    "for name, group in df.groupby('Technology'):\n",
    "    gsum = group['n'].sum()\n",
    "    try:\n",
    "        g11 = int(group[group['PY']==2011]['n'])\n",
    "    except:\n",
    "        g11 = 0\n",
    "    try:\n",
    "        g16 = int(group[group['PY']==2016]['n'])\n",
    "    except:\n",
    "        g16 = 0\n",
    "    growth = g16 - g11\n",
    "    try:\n",
    "        cagr = (math.pow((g16/g11),(1/5))-1)*100\n",
    "    except:\n",
    "        cagr = np.NaN\n",
    "    tsum = {\n",
    "        'Technology': name,\n",
    "        'Sum': gsum,\n",
    "        '5year_compound_annual_growth_16': cagr \n",
    "    }\n",
    "    tsums.append(tsum)\n",
    "    \n",
    "tsummary = pd.DataFrame.from_dict(tsums)\n",
    "\n",
    "tsummary = tsummary[tsummary['Sum']>0].sort_values('Sum',ascending=False)\n",
    "\n",
    "tsummary.to_excel('tables/tech_totals.xlsx')\n",
    "\n",
    "tsummary.head(15)\n",
    "\n"
   ]
  },
  {
   "cell_type": "code",
   "execution_count": 207,
   "metadata": {
    "collapsed": false,
    "deletable": true,
    "editable": true
   },
   "outputs": [],
   "source": [
    "df.to_excel('tables/tech_year_totals.xlsx')"
   ]
  },
  {
   "cell_type": "code",
   "execution_count": 208,
   "metadata": {
    "collapsed": false
   },
   "outputs": [
    {
     "data": {
      "text/html": [
       "<div>\n",
       "<table border=\"1\" class=\"dataframe\">\n",
       "  <thead>\n",
       "    <tr style=\"text-align: right;\">\n",
       "      <th></th>\n",
       "      <th>PY</th>\n",
       "      <th>ar</th>\n",
       "      <th>ar_name</th>\n",
       "      <th>n</th>\n",
       "    </tr>\n",
       "  </thead>\n",
       "  <tbody>\n",
       "    <tr>\n",
       "      <th>22</th>\n",
       "      <td>2012</td>\n",
       "      <td>5</td>\n",
       "      <td>AR5</td>\n",
       "      <td>163</td>\n",
       "    </tr>\n",
       "    <tr>\n",
       "      <th>23</th>\n",
       "      <td>2013</td>\n",
       "      <td>5</td>\n",
       "      <td>AR5</td>\n",
       "      <td>190</td>\n",
       "    </tr>\n",
       "    <tr>\n",
       "      <th>24</th>\n",
       "      <td>2014</td>\n",
       "      <td>6</td>\n",
       "      <td>AR6</td>\n",
       "      <td>196</td>\n",
       "    </tr>\n",
       "    <tr>\n",
       "      <th>25</th>\n",
       "      <td>2015</td>\n",
       "      <td>6</td>\n",
       "      <td>AR6</td>\n",
       "      <td>215</td>\n",
       "    </tr>\n",
       "    <tr>\n",
       "      <th>26</th>\n",
       "      <td>2016</td>\n",
       "      <td>6</td>\n",
       "      <td>AR6</td>\n",
       "      <td>264</td>\n",
       "    </tr>\n",
       "  </tbody>\n",
       "</table>\n",
       "</div>"
      ],
      "text/plain": [
       "      PY  ar ar_name    n\n",
       "22  2012   5     AR5  163\n",
       "23  2013   5     AR5  190\n",
       "24  2014   6     AR6  196\n",
       "25  2015   6     AR6  215\n",
       "26  2016   6     AR6  264"
      ]
     },
     "execution_count": 208,
     "metadata": {},
     "output_type": "execute_result"
    }
   ],
   "source": [
    "bypy = allreldocs.filter(\n",
    "       PY__in=range(1989,2017)\n",
    ").values('PY').annotate(\n",
    "    n = Count('UT', distinct=True)\n",
    ").order_by('PY')\n",
    "\n",
    "for py in bypy:\n",
    "    for ar in ars:\n",
    "        if py['PY'] in ar['years']:\n",
    "            py['ar'] = ar['n']\n",
    "            py['ar_name'] = ar['name']\n",
    "\n",
    "bypy = pd.DataFrame.from_dict(list(bypy))\n",
    "\n",
    "bypy.head()\n",
    "\n",
    "bypy.tail()"
   ]
  },
  {
   "cell_type": "code",
   "execution_count": 227,
   "metadata": {
    "collapsed": false
   },
   "outputs": [
    {
     "name": "stdout",
     "output_type": "stream",
     "text": [
      "AR1\n",
      "AR2\n",
      "AR3\n",
      "AR4\n",
      "AR5\n",
      "AR6\n"
     ]
    },
    {
     "data": {
      "image/png": "[encoded data removed]",
      "text/plain": [
       "<matplotlib.figure.Figure at 0x7f369406c7b8>"
      ]
     },
     "metadata": {},
     "output_type": "display_data"
    }
   ],
   "source": [
    "pdf = bypy.set_index('PY')\n",
    "colors = {\n",
    "    0:'#8dd3c7', \n",
    "    1: '#d53e4f', \n",
    "    2: '#fc8d59', \n",
    "    3: '#fee08b', \n",
    "    4: '#e6f598', \n",
    "    5: '#99d594', \n",
    "    6: '#3288bd'\n",
    "}\n",
    "\n",
    "#d53e4f\n",
    "#fc8d59\n",
    "#fee08b\n",
    "#e6f598\n",
    "#99d594\n",
    "#3288bd\n",
    "\n",
    "#pdf['n'].plot.bar(color=[colors[int(x)] for x in list(pdf['ar'])])\n",
    "\n",
    "fig, ax = plt.subplots()\n",
    "\n",
    "ax.grid(True)\n",
    "\n",
    "ax.bar(\n",
    "    bypy.PY,\n",
    "    bypy.n, \n",
    "    lw=1,\n",
    "    edgecolor='grey',\n",
    "    color=[colors[int(x)] for x in list(pdf['ar'])] \n",
    ")\n",
    "\n",
    "for name, group in bypy.groupby('ar_name'):\n",
    "    print(name)\n",
    "    count = \"[{}]\".format(group['n'].sum())\n",
    "    mid = group['PY'].median()\n",
    "    maxn = group['n'].max() + 15\n",
    "    ax.text(mid,maxn,count)\n",
    "    \n",
    "\n",
    "\n",
    "plt.ylim(ymax=300) \n",
    "\n",
    "ax.set_xlabel('Year')\n",
    "ax.set_ylabel('Number of Publications')\n",
    "plt.savefig('plots/general/all.png',bbox_inches='tight') \n",
    "plt.show()"
   ]
  },
  {
   "cell_type": "code",
   "execution_count": 138,
   "metadata": {
    "collapsed": false
   },
   "outputs": [
    {
     "data": {
      "text/plain": [
       "[{'n': 0, 'name': 'AR0', 'years': range(0, 1985)},\n",
       " {'n': 1, 'name': 'AR1', 'years': range(1985, 1991)},\n",
       " {'n': 2, 'name': 'AR2', 'years': range(1991, 1995)},\n",
       " {'n': 3, 'name': 'AR3', 'years': range(1995, 2001)},\n",
       " {'n': 4, 'name': 'AR4', 'years': range(2001, 2008)},\n",
       " {'n': 5, 'name': 'AR5', 'years': range(2008, 2014)},\n",
       " {'n': 6, 'name': 'AR6', 'years': range(2014, 9999)}]"
      ]
     },
     "execution_count": 138,
     "metadata": {},
     "output_type": "execute_result"
    }
   ],
   "source": [
    "ars"
   ]
  },
  {
   "cell_type": "code",
   "execution_count": 219,
   "metadata": {
    "collapsed": false
   },
   "outputs": [
    {
     "ename": "AttributeError",
     "evalue": "'LinearSegmentedColormap' object has no attribute 'values'",
     "output_type": "error",
     "traceback": [
      "\u001b[0;31m---------------------------------------------------------------------------\u001b[0m",
      "\u001b[0;31mAttributeError\u001b[0m                            Traceback (most recent call last)",
      "\u001b[0;32m<ipython-input-219-0f193c5ddbc3>\u001b[0m in \u001b[0;36m<module>\u001b[0;34m()\u001b[0m\n\u001b[0;32m----> 1\u001b[0;31m \u001b[0mplt\u001b[0m\u001b[0;34m.\u001b[0m\u001b[0mget_cmap\u001b[0m\u001b[0;34m(\u001b[0m\u001b[0;34m'Spectral'\u001b[0m\u001b[0;34m)\u001b[0m\u001b[0;34m.\u001b[0m\u001b[0mvalues\u001b[0m\u001b[0;34m(\u001b[0m\u001b[0;34m)\u001b[0m\u001b[0;34m\u001b[0m\u001b[0m\n\u001b[0m",
      "\u001b[0;31mAttributeError\u001b[0m: 'LinearSegmentedColormap' object has no attribute 'values'"
     ]
    }
   ],
   "source": [
    "plt.get_cmap('Spectral')\n"
   ]
  }
 ],
 "metadata": {
  "kernelspec": {
   "display_name": "Python 3",
   "language": "python",
   "name": "python3"
  },
  "language_info": {
   "codemirror_mode": {
    "name": "ipython",
    "version": 3
   },
   "file_extension": ".py",
   "mimetype": "text/x-python",
   "name": "python",
   "nbconvert_exporter": "python",
   "pygments_lexer": "ipython3",
   "version": "3.4.3"
  }
 },
 "nbformat": 4,
 "nbformat_minor": 2
}
