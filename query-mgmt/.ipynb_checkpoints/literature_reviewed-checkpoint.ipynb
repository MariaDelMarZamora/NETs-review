{
 "cells": [
  {
   "cell_type": "code",
   "execution_count": 1,
   "metadata": {
    "collapsed": true,
    "deletable": true,
    "editable": true
   },
   "outputs": [],
   "source": [
    "import django, os, sys, time, resource, re, gc, shutil\n",
    "import numpy as np\n",
    "import matplotlib.pyplot as plt\n",
    "import pandas as pd\n",
    "from django.db.models import Count, Avg, F, Sum\n",
    "import math\n",
    "\n",
    "sys.path.append('/home/galm/software/django/tmv/BasicBrowser/')\n",
    "\n",
    "os.environ.setdefault(\"DJANGO_SETTINGS_MODULE\", \"BasicBrowser.settings\")\n",
    "django.setup()\n",
    "\n",
    "from scoping.models import *\n",
    "from utils.utils import ars\n",
    "\n",
    "qid = 1558\n",
    "q = Query.objects.get(pk=qid)"
   ]
  },
  {
   "cell_type": "code",
   "execution_count": 5,
   "metadata": {
    "collapsed": false,
    "deletable": true,
    "editable": true
   },
   "outputs": [
    {
     "name": "stdout",
     "output_type": "stream",
     "text": [
      "6597\n"
     ]
    }
   ],
   "source": [
    "\n",
    "p = Project.objects.get(title=\"NETs\")\n",
    "pdocs = Doc.objects.filter(query__project=p)\n",
    "\n",
    "techs = Technology.objects.filter(project=p).exclude(name__in=[\"Bioenergy\",\"Geological Storage\",\"Blue Carbon\"])\n",
    "\n",
    "techs = Technology.objects.filter(project=p).exclude(name__in=[\"Blue Carbon\"])\n",
    "\n",
    "tdocs = set(list(Doc.objects.filter(\n",
    "    technology__in=techs\n",
    ").values_list('id',flat=True)))\n",
    "\n",
    "qtdocs = set(list(Doc.objects.filter(\n",
    "    query__technology__in=techs,\n",
    "    query__type=\"default\"\n",
    ").values_list('id',flat=True)))\n",
    "\n",
    "## These are all docs in the project\n",
    "\n",
    "pdocs =  Doc.objects.filter(\n",
    "    id__in=tdocs.union(qtdocs)\n",
    ")\n",
    "\n",
    "print(pdocs.distinct().count())#techs = Technology.objects.filter(project=p)\n"
   ]
  },
  {
   "cell_type": "code",
   "execution_count": 3,
   "metadata": {
    "collapsed": false,
    "deletable": true,
    "editable": true
   },
   "outputs": [
    {
     "data": {
      "text/html": [
       "<div>\n",
       "<table border=\"1\" class=\"dataframe\">\n",
       "  <thead>\n",
       "    <tr style=\"text-align: right;\">\n",
       "      <th></th>\n",
       "      <th>database</th>\n",
       "      <th>id</th>\n",
       "      <th>ndocs</th>\n",
       "      <th>technology__name</th>\n",
       "      <th>text</th>\n",
       "      <th>title</th>\n",
       "    </tr>\n",
       "  </thead>\n",
       "  <tbody>\n",
       "    <tr>\n",
       "      <th>0</th>\n",
       "      <td>WoS</td>\n",
       "      <td>243</td>\n",
       "      <td>198</td>\n",
       "      <td>Direct Air Capture</td>\n",
       "      <td>(TS = (((capture OR extraction OR absorbtion) ...</td>\n",
       "      <td>NETs_scoping_DAC</td>\n",
       "    </tr>\n",
       "    <tr>\n",
       "      <th>1</th>\n",
       "      <td>WoS</td>\n",
       "      <td>286</td>\n",
       "      <td>31</td>\n",
       "      <td>BECCS</td>\n",
       "      <td>TI = ((potential* OR supply) AND (bioenergy* O...</td>\n",
       "      <td>test</td>\n",
       "    </tr>\n",
       "    <tr>\n",
       "      <th>2</th>\n",
       "      <td>WoS</td>\n",
       "      <td>303</td>\n",
       "      <td>87</td>\n",
       "      <td>Bioenergy</td>\n",
       "      <td>TI = ((potential* OR supply OR production OR s...</td>\n",
       "      <td>BioEn Potential WoS</td>\n",
       "    </tr>\n",
       "    <tr>\n",
       "      <th>3</th>\n",
       "      <td>WoS</td>\n",
       "      <td>330</td>\n",
       "      <td>660</td>\n",
       "      <td>Soil Carbon Sequestration</td>\n",
       "      <td>TS = ((soil NEAR/3 (carbon OR CO2) NEAR/3 (seq...</td>\n",
       "      <td>soil_carbon_sequestration</td>\n",
       "    </tr>\n",
       "    <tr>\n",
       "      <th>4</th>\n",
       "      <td>scopus</td>\n",
       "      <td>332</td>\n",
       "      <td>637</td>\n",
       "      <td>Soil Carbon Sequestration</td>\n",
       "      <td>TITLE-ABS-KEY ( ( soil  W/3  ( carbon  OR  co2...</td>\n",
       "      <td>soil_carbon_sequestration_scopus</td>\n",
       "    </tr>\n",
       "  </tbody>\n",
       "</table>\n",
       "</div>"
      ],
      "text/plain": [
       "  database   id  ndocs           technology__name  \\\n",
       "0      WoS  243    198         Direct Air Capture   \n",
       "1      WoS  286     31                      BECCS   \n",
       "2      WoS  303     87                  Bioenergy   \n",
       "3      WoS  330    660  Soil Carbon Sequestration   \n",
       "4   scopus  332    637  Soil Carbon Sequestration   \n",
       "\n",
       "                                                text  \\\n",
       "0  (TS = (((capture OR extraction OR absorbtion) ...   \n",
       "1  TI = ((potential* OR supply) AND (bioenergy* O...   \n",
       "2  TI = ((potential* OR supply OR production OR s...   \n",
       "3  TS = ((soil NEAR/3 (carbon OR CO2) NEAR/3 (seq...   \n",
       "4  TITLE-ABS-KEY ( ( soil  W/3  ( carbon  OR  co2...   \n",
       "\n",
       "                              title  \n",
       "0                  NETs_scoping_DAC  \n",
       "1                              test  \n",
       "2               BioEn Potential WoS  \n",
       "3         soil_carbon_sequestration  \n",
       "4  soil_carbon_sequestration_scopus  "
      ]
     },
     "execution_count": 3,
     "metadata": {},
     "output_type": "execute_result"
    }
   ],
   "source": [
    "queries = Query.objects.filter(technology__in=techs,doc__isnull=False,type=\"default\").distinct()\n",
    "\n",
    "qts = queries.annotate(\n",
    "    ndocs = Count('doc')\n",
    ")\n",
    "\n",
    "qtdf = pd.DataFrame.from_dict(list(qts.order_by('id').values('id','technology__name','ndocs','title','text','database')))\n",
    "\n",
    "qtdf.head()"
   ]
  },
  {
   "cell_type": "code",
   "execution_count": 6,
   "metadata": {
    "collapsed": false,
    "deletable": true,
    "editable": true
   },
   "outputs": [
    {
     "name": "stdout",
     "output_type": "stream",
     "text": [
      "<QuerySet [<Technology: Ocean fertilisation>, <Technology: Soil Carbon Sequestration>, <Technology: Geological Storage>, <Technology: Enhanced Weathering>, <Technology: NETs - General>, <Technology: BECCS>, <Technology: Ocean Alkalinisation>, <Technology: Bioenergy>, <Technology: Afforestation/reforestation>, <Technology: Ethics & Morals>, <Technology: Biochar>, <Technology: Direct Air Capture>]>\n"
     ]
    }
   ],
   "source": [
    "print(techs)"
   ]
  },
  {
   "cell_type": "code",
   "execution_count": 3,
   "metadata": {
    "collapsed": false,
    "deletable": true,
    "editable": true
   },
   "outputs": [
    {
     "name": "stdout",
     "output_type": "stream",
     "text": [
      "2460\n"
     ]
    }
   ],
   "source": [
    "trdocs = set(list(pdocs.filter(\n",
    "    docownership__relevant=1,\n",
    "    docownership__query__technology__in=techs\n",
    ").values_list('UT',flat=True)))\n",
    "\n",
    "ttdocs = set(list(Doc.objects.filter(\n",
    "    technology__in=techs\n",
    ").values_list('UT',flat=True)))\n",
    "\n",
    "\n",
    "allreldocs =  Doc.objects.filter(\n",
    "    UT__in=trdocs.union(ttdocs)\n",
    ")\n",
    "\n",
    "print(allreldocs.count())"
   ]
  },
  {
   "cell_type": "code",
   "execution_count": 11,
   "metadata": {
    "collapsed": false,
    "deletable": true,
    "editable": true
   },
   "outputs": [
    {
     "name": "stdout",
     "output_type": "stream",
     "text": [
      "2093\n"
     ]
    }
   ],
   "source": [
    "## For no storage and stuff\n",
    "\n",
    "narrowtechs = Technology.objects.filter(project=p).exclude(name__in=[\n",
    "    \"Bioenergy\",\"Geological Storage\",\"Blue Carbon\",\"Ethics & Morals\"\n",
    "])\n",
    "\n",
    "techs = Technology.objects.filter(project=p).exclude(\n",
    "    name__in=[\"Bioenergy\",\"Geological Storage\",\"Blue Carbon\",\"Ethics & Morals\"]\n",
    ")\n",
    "\n",
    "ntrdocs = set(list(pdocs.filter(\n",
    "    docownership__relevant=1,\n",
    "    docownership__query__technology__in=narrowtechs\n",
    ").values_list('id',flat=True)))\n",
    "\n",
    "nttdocs = set(list(Doc.objects.filter(\n",
    "    technology__in=narrowtechs\n",
    ").values_list('id',flat=True)))\n",
    "\n",
    "nttdocs = set(list(Doc.objects.filter(\n",
    "    technology__in=techs,    \n",
    ").exclude(query__qtype='MN').values_list('pk',flat=True)))\n",
    "\n",
    "\n",
    "allreldocs =  Doc.objects.filter(\n",
    "    id__in=ntrdocs.union(nttdocs)\n",
    ")\n",
    "\n",
    "print(allreldocs.count())"
   ]
  },
  {
   "cell_type": "code",
   "execution_count": 12,
   "metadata": {
    "collapsed": false,
    "deletable": true,
    "editable": true
   },
   "outputs": [
    {
     "name": "stdout",
     "output_type": "stream",
     "text": [
      "927\n"
     ]
    }
   ],
   "source": [
    "spapers = pd.read_csv('../tables/unique_spreadsheet_papers.csv')\n",
    "\n",
    "print(len(spapers))"
   ]
  },
  {
   "cell_type": "code",
   "execution_count": 19,
   "metadata": {
    "collapsed": false
   },
   "outputs": [
    {
     "data": {
      "text/html": [
       "<div>\n",
       "<table border=\"1\" class=\"dataframe\">\n",
       "  <thead>\n",
       "    <tr style=\"text-align: right;\">\n",
       "      <th></th>\n",
       "      <th>Unnamed: 0</th>\n",
       "      <th>X1</th>\n",
       "      <th>X2</th>\n",
       "      <th>X3</th>\n",
       "      <th>technology</th>\n",
       "    </tr>\n",
       "  </thead>\n",
       "  <tbody>\n",
       "    <tr>\n",
       "      <th>440</th>\n",
       "      <td>533</td>\n",
       "      <td>Xie, T; Reddy, KR; Wang, C; Yargicoglu, E; Spo...</td>\n",
       "      <td>2015</td>\n",
       "      <td>Characteristics and Applications of Biochar fo...</td>\n",
       "      <td>Biochar</td>\n",
       "    </tr>\n",
       "    <tr>\n",
       "      <th>441</th>\n",
       "      <td>535</td>\n",
       "      <td>Andrenelli, M.C., A. Maienza, L. Genesio, F. M...</td>\n",
       "      <td>2016</td>\n",
       "      <td>Field application of pelletized biochar: Short...</td>\n",
       "      <td>Biochar</td>\n",
       "    </tr>\n",
       "    <tr>\n",
       "      <th>442</th>\n",
       "      <td>536</td>\n",
       "      <td>Mašek, Ondrej, Peter Brownsort, Andrew Cross, ...</td>\n",
       "      <td>unpublished</td>\n",
       "      <td>INFLUENCE OF BIOCHAR PRODUCTION CONDITIONS ON ...</td>\n",
       "      <td>Biochar</td>\n",
       "    </tr>\n",
       "    <tr>\n",
       "      <th>443</th>\n",
       "      <td>537</td>\n",
       "      <td>Hori, Masao</td>\n",
       "      <td>2015</td>\n",
       "      <td>Carbon-negative energy system</td>\n",
       "      <td>Biochar</td>\n",
       "    </tr>\n",
       "    <tr>\n",
       "      <th>444</th>\n",
       "      <td>538</td>\n",
       "      <td>Lehmann, Johannes, Jan Skjemstad, Saran Sohi, ...</td>\n",
       "      <td>2008</td>\n",
       "      <td>Australian Climate–carbon Cycle Feedback Reduc...</td>\n",
       "      <td>Biochar</td>\n",
       "    </tr>\n",
       "    <tr>\n",
       "      <th>445</th>\n",
       "      <td>539</td>\n",
       "      <td>Castracani, C., A. Maienza, D.A. Grasso, L. Ge...</td>\n",
       "      <td>2015</td>\n",
       "      <td>Biochar–macrofauna Interplay: Searching for Ne...</td>\n",
       "      <td>Biochar</td>\n",
       "    </tr>\n",
       "  </tbody>\n",
       "</table>\n",
       "</div>"
      ],
      "text/plain": [
       "     Unnamed: 0                                                 X1  \\\n",
       "440         533  Xie, T; Reddy, KR; Wang, C; Yargicoglu, E; Spo...   \n",
       "441         535  Andrenelli, M.C., A. Maienza, L. Genesio, F. M...   \n",
       "442         536  Mašek, Ondrej, Peter Brownsort, Andrew Cross, ...   \n",
       "443         537                                        Hori, Masao   \n",
       "444         538  Lehmann, Johannes, Jan Skjemstad, Saran Sohi, ...   \n",
       "445         539  Castracani, C., A. Maienza, D.A. Grasso, L. Ge...   \n",
       "\n",
       "              X2                                                 X3 technology  \n",
       "440         2015  Characteristics and Applications of Biochar fo...    Biochar  \n",
       "441         2016  Field application of pelletized biochar: Short...    Biochar  \n",
       "442  unpublished  INFLUENCE OF BIOCHAR PRODUCTION CONDITIONS ON ...    Biochar  \n",
       "443         2015                      Carbon-negative energy system    Biochar  \n",
       "444         2008  Australian Climate–carbon Cycle Feedback Reduc...    Biochar  \n",
       "445         2015  Biochar–macrofauna Interplay: Searching for Ne...    Biochar  "
      ]
     },
     "execution_count": 19,
     "metadata": {},
     "output_type": "execute_result"
    }
   ],
   "source": [
    "spapers.loc[440:445,]"
   ]
  },
  {
   "cell_type": "code",
   "execution_count": 20,
   "metadata": {
    "collapsed": false,
    "deletable": true,
    "editable": true
   },
   "outputs": [
    {
     "ename": "SyntaxError",
     "evalue": "invalid syntax (<ipython-input-20-f534713010e7>, line 69)",
     "output_type": "error",
     "traceback": [
      "\u001b[0;36m  File \u001b[0;32m\"<ipython-input-20-f534713010e7>\"\u001b[0;36m, line \u001b[0;32m69\u001b[0m\n\u001b[0;31m    excpet:\u001b[0m\n\u001b[0m         ^\u001b[0m\n\u001b[0;31mSyntaxError\u001b[0m\u001b[0;31m:\u001b[0m invalid syntax\n"
     ]
    }
   ],
   "source": [
    "global unfound\n",
    "unfound = 0\n",
    "\n",
    "global multmatches\n",
    "multmatches = 0\n",
    "\n",
    "global found\n",
    "found = 0\n",
    "\n",
    "global indb\n",
    "indb = 0\n",
    "\n",
    "spapers = pd.read_csv('../tables/unique_spreadsheet_papers.csv')\n",
    "\n",
    "\n",
    "def find_paper(x):\n",
    "    \n",
    "    try:\n",
    "    \n",
    "        tis = x['X3'].split()\n",
    "        \n",
    "    except:\n",
    "        print(x['X3'])\n",
    "        tis = str(x['X3']).split()\n",
    "    \n",
    "    if len(tis) > 8:\n",
    "        ti = ' '.join(tis[:8])\n",
    "    else:\n",
    "        ti = x['X3']\n",
    "        \n",
    "    docs = pdocs.filter(title__icontains=ti)\n",
    "    \n",
    "    global unfound\n",
    "    global found\n",
    "    global multmatches\n",
    "    \n",
    "    if docs.count() == 1:\n",
    "    \n",
    "        doc = docs.first()\n",
    "        found +=1\n",
    "    elif docs.count() > 1:\n",
    "        doc = \"None\"\n",
    "        multmatches+=1\n",
    "    else:       \n",
    "        di = x['X3'].replace('http://dx.doi.org/','')\n",
    "        docs = pdocs.filter(wosarticle__di=di)\n",
    "        if docs.count()==1:\n",
    "            doc = docs.first()\n",
    "            found+=1\n",
    "        elif docs.count() > 1:\n",
    "            doc = \"None\"\n",
    "            multmatches+=1\n",
    "        else:\n",
    "            au = x['X1'].split()[0].split(',')[0]\n",
    "            docs = pdocs.filter(\n",
    "                docauthinst__AU__icontains=au,\n",
    "                docauthinst__position=1,\n",
    "                PY=x['X2']\n",
    "            ).distinct()\n",
    "            if docs.count()==1:\n",
    "                doc = docs.first()\n",
    "                found+=1\n",
    "            elif docs.count() > 1:\n",
    "                doc = \"None\"\n",
    "                multmatches+=1\n",
    "            else:\n",
    "                try:\n",
    "                    py=int(x['X2'])\n",
    "                except:\n",
    "                    py =0\n",
    "                \n",
    "                docs = pdocs.filter(\n",
    "                    docauthinst__AU__icontains=au,\n",
    "                    docauthinst__position__in=[1,0],\n",
    "                    PY=py\n",
    "                ).distinct()\n",
    "                if docs.count()==1:\n",
    "                    doc = docs.first()\n",
    "                    found+=1\n",
    "                else:\n",
    "                    ti = re.findall('[A-Z]{1}\\.{1}[^;]([^\\.]{5,})',x['X3'])\n",
    "                    if len(ti) > 0:\n",
    "                        ti = ti[0]\n",
    "                    else:\n",
    "                        ti = \"zwasdfölkjag\"\n",
    "                    docs = pdocs.filter(title__icontains=ti)\n",
    "                    if docs.count()==1:\n",
    "                        doc = docs.first()\n",
    "                        found+=1\n",
    "                    else:\n",
    "                        doc = \"None\"\n",
    "                        unfound+=1\n",
    "                        \n",
    "    try:\n",
    "        doc = doc.UT\n",
    "    except:\n",
    "        doc = doc\n",
    "    \n",
    "    return doc\n",
    "\n",
    "spapers['doc_id'] = spapers.apply(lambda x: find_paper(x), axis=1)\n",
    "\n",
    "print(\"no matches: {}\".format(unfound))\n",
    "print(\"multiple matches: {}\".format(multmatches))\n",
    "print(\"found {}\".format(found))\n",
    "\n",
    "\n",
    "spapers.head()"
   ]
  },
  {
   "cell_type": "code",
   "execution_count": 6,
   "metadata": {
    "collapsed": false,
    "deletable": true,
    "editable": true
   },
   "outputs": [],
   "source": [
    "spapers[spapers['doc_id'] == \"None\"].reset_index()['X3']\n",
    "\n",
    "\n",
    "notfound = spapers[spapers['doc_id'] == \"None\"].reset_index()\n",
    "\n",
    "foundpapers = spapers[spapers['doc_id'] != \"None\"].reset_index()\n",
    "\n",
    "notfound\n",
    "\n",
    "\n",
    "\n",
    "notfound.to_excel('../tables/spreadsheet_not_found.xlsx')\n",
    "\n",
    "\n",
    "#spapers[spapers['doc_id'] == \"None\"].groupby('technology').count()\n",
    "\n",
    "# Go through docs, mark include1 if in allreldocs, mark include2 if in list generated in R\n",
    "\n",
    "\n",
    "#spapers[spapers['doc_id'] == \"None\"].reset_index()['X3'][18]\n",
    "\n",
    "\n"
   ]
  },
  {
   "cell_type": "code",
   "execution_count": 7,
   "metadata": {
    "collapsed": false,
    "deletable": true,
    "editable": true
   },
   "outputs": [],
   "source": [
    "pdoc_dict = []\n",
    "\n",
    "allrelids = list(allreldocs.values_list('UT',flat=True))\n",
    "\n",
    "for doc in pdocs:\n",
    "    das = doc.docauthinst_set.order_by('AU','position').distinct('AU').values_list('id',flat=True)\n",
    "    unique = doc.docauthinst_set.filter(id__in=das).order_by('position').values_list('AU',flat=True)\n",
    "    qset = [str(x) for x in list(doc.query.filter(\n",
    "            technology__in=techs,type=\"default\"\n",
    "        ).distinct().values_list('id',flat=True))]\n",
    "    try:\n",
    "        py = int(doc.PY)\n",
    "    except:\n",
    "        py = doc.PY\n",
    "    if doc.UT in foundpapers['doc_id'].tolist():\n",
    "        sp = 1\n",
    "    else:\n",
    "        sp = 0\n",
    "    if doc.UT in allrelids:\n",
    "        r = 1\n",
    "        dtechs = techs.filter(query__docownership__doc=doc,query__docownership__relevant=1) | techs.filter(doc=doc)\n",
    "        #dtechs = doc.docownership_set\n",
    "        dtechs = [str(x.name) for x in dtechs.distinct()]\n",
    "    else:\n",
    "        r = 0\n",
    "        dtechs = []\n",
    "        \n",
    "        \n",
    "    pdoc = {\n",
    "        'Authors': \"; \".join(unique),\n",
    "        'Publication_Year': py,\n",
    "        'Title': doc.title,\n",
    "        'Queries': \"; \".join(qset),\n",
    "        'Relevant': r,\n",
    "        'In_Spreadsheet': sp,\n",
    "        'Technologies': '; '.join(dtechs)\n",
    "    }\n",
    "    pdoc_dict.append(pdoc)\n",
    "    "
   ]
  },
  {
   "cell_type": "code",
   "execution_count": 8,
   "metadata": {
    "collapsed": false,
    "deletable": true,
    "editable": true
   },
   "outputs": [
    {
     "data": {
      "text/html": [
       "<div>\n",
       "<table border=\"1\" class=\"dataframe\">\n",
       "  <thead>\n",
       "    <tr style=\"text-align: right;\">\n",
       "      <th></th>\n",
       "      <th>Authors</th>\n",
       "      <th>In_Spreadsheet</th>\n",
       "      <th>Publication_Year</th>\n",
       "      <th>Queries</th>\n",
       "      <th>Relevant</th>\n",
       "      <th>Technologies</th>\n",
       "      <th>Title</th>\n",
       "    </tr>\n",
       "  </thead>\n",
       "  <tbody>\n",
       "    <tr>\n",
       "      <th>0</th>\n",
       "      <td>Mason, S.S.</td>\n",
       "      <td>0</td>\n",
       "      <td>1993.0</td>\n",
       "      <td>374; 672; 896</td>\n",
       "      <td>0</td>\n",
       "      <td></td>\n",
       "      <td>Syntheses and 13C NMR Investigations of an Ext...</td>\n",
       "    </tr>\n",
       "    <tr>\n",
       "      <th>1</th>\n",
       "      <td>Englert, R.</td>\n",
       "      <td>0</td>\n",
       "      <td>1991.0</td>\n",
       "      <td>369; 468; 661; 662; 1481</td>\n",
       "      <td>0</td>\n",
       "      <td></td>\n",
       "      <td>Automated trace analysis of airborne C1- and C...</td>\n",
       "    </tr>\n",
       "    <tr>\n",
       "      <th>2</th>\n",
       "      <td>Alig, R.</td>\n",
       "      <td>1</td>\n",
       "      <td>2000.0</td>\n",
       "      <td>334; 618</td>\n",
       "      <td>1</td>\n",
       "      <td>Afforestation/reforestation</td>\n",
       "      <td>Mitigation, adaptation, and climate change: Re...</td>\n",
       "    </tr>\n",
       "    <tr>\n",
       "      <th>3</th>\n",
       "      <td>Dubey, M.K.; Ziock, H.; Rueff, G.; Elliott, S....</td>\n",
       "      <td>0</td>\n",
       "      <td>2002.0</td>\n",
       "      <td>369; 468; 661; 662; 1481</td>\n",
       "      <td>1</td>\n",
       "      <td>Direct Air Capture</td>\n",
       "      <td>Extraction of carbon dioxide from the atmosphe...</td>\n",
       "    </tr>\n",
       "    <tr>\n",
       "      <th>4</th>\n",
       "      <td>MacLaren, P.</td>\n",
       "      <td>1</td>\n",
       "      <td>1999.0</td>\n",
       "      <td>334; 618</td>\n",
       "      <td>1</td>\n",
       "      <td>Afforestation/reforestation</td>\n",
       "      <td>Modelling the effect of land-use practices on ...</td>\n",
       "    </tr>\n",
       "  </tbody>\n",
       "</table>\n",
       "</div>"
      ],
      "text/plain": [
       "                                             Authors  In_Spreadsheet  \\\n",
       "0                                        Mason, S.S.               0   \n",
       "1                                        Englert, R.               0   \n",
       "2                                           Alig, R.               1   \n",
       "3  Dubey, M.K.; Ziock, H.; Rueff, G.; Elliott, S....               0   \n",
       "4                                       MacLaren, P.               1   \n",
       "\n",
       "   Publication_Year                   Queries  Relevant  \\\n",
       "0            1993.0             374; 672; 896         0   \n",
       "1            1991.0  369; 468; 661; 662; 1481         0   \n",
       "2            2000.0                  334; 618         1   \n",
       "3            2002.0  369; 468; 661; 662; 1481         1   \n",
       "4            1999.0                  334; 618         1   \n",
       "\n",
       "                  Technologies  \\\n",
       "0                                \n",
       "1                                \n",
       "2  Afforestation/reforestation   \n",
       "3           Direct Air Capture   \n",
       "4  Afforestation/reforestation   \n",
       "\n",
       "                                               Title  \n",
       "0  Syntheses and 13C NMR Investigations of an Ext...  \n",
       "1  Automated trace analysis of airborne C1- and C...  \n",
       "2  Mitigation, adaptation, and climate change: Re...  \n",
       "3  Extraction of carbon dioxide from the atmosphe...  \n",
       "4  Modelling the effect of land-use practices on ...  "
      ]
     },
     "execution_count": 8,
     "metadata": {},
     "output_type": "execute_result"
    }
   ],
   "source": [
    "big_df = pd.DataFrame.from_dict(pdoc_dict)\n",
    "\n",
    "big_df.head()"
   ]
  },
  {
   "cell_type": "code",
   "execution_count": 9,
   "metadata": {
    "collapsed": false,
    "deletable": true,
    "editable": true
   },
   "outputs": [
    {
     "data": {
      "text/html": [
       "<div>\n",
       "<table border=\"1\" class=\"dataframe\">\n",
       "  <thead>\n",
       "    <tr style=\"text-align: right;\">\n",
       "      <th></th>\n",
       "      <th></th>\n",
       "      <th>Authors</th>\n",
       "      <th>Publication_Year</th>\n",
       "      <th>Queries</th>\n",
       "      <th>Technologies</th>\n",
       "      <th>Title</th>\n",
       "    </tr>\n",
       "    <tr>\n",
       "      <th>In_Spreadsheet</th>\n",
       "      <th>Relevant</th>\n",
       "      <th></th>\n",
       "      <th></th>\n",
       "      <th></th>\n",
       "      <th></th>\n",
       "      <th></th>\n",
       "    </tr>\n",
       "  </thead>\n",
       "  <tbody>\n",
       "    <tr>\n",
       "      <th rowspan=\"2\" valign=\"top\">0</th>\n",
       "      <th>0</th>\n",
       "      <td>4109</td>\n",
       "      <td>4109</td>\n",
       "      <td>4109</td>\n",
       "      <td>4109</td>\n",
       "      <td>4109</td>\n",
       "    </tr>\n",
       "    <tr>\n",
       "      <th>1</th>\n",
       "      <td>1354</td>\n",
       "      <td>1353</td>\n",
       "      <td>1354</td>\n",
       "      <td>1354</td>\n",
       "      <td>1353</td>\n",
       "    </tr>\n",
       "    <tr>\n",
       "      <th rowspan=\"2\" valign=\"top\">1</th>\n",
       "      <th>0</th>\n",
       "      <td>36</td>\n",
       "      <td>36</td>\n",
       "      <td>36</td>\n",
       "      <td>36</td>\n",
       "      <td>36</td>\n",
       "    </tr>\n",
       "    <tr>\n",
       "      <th>1</th>\n",
       "      <td>777</td>\n",
       "      <td>777</td>\n",
       "      <td>777</td>\n",
       "      <td>777</td>\n",
       "      <td>777</td>\n",
       "    </tr>\n",
       "  </tbody>\n",
       "</table>\n",
       "</div>"
      ],
      "text/plain": [
       "                         Authors  Publication_Year  Queries  Technologies  \\\n",
       "In_Spreadsheet Relevant                                                     \n",
       "0              0            4109              4109     4109          4109   \n",
       "               1            1354              1353     1354          1354   \n",
       "1              0              36                36       36            36   \n",
       "               1             777               777      777           777   \n",
       "\n",
       "                         Title  \n",
       "In_Spreadsheet Relevant         \n",
       "0              0          4109  \n",
       "               1          1353  \n",
       "1              0            36  \n",
       "               1           777  "
      ]
     },
     "execution_count": 9,
     "metadata": {},
     "output_type": "execute_result"
    }
   ],
   "source": [
    "big_df.groupby(['In_Spreadsheet','Relevant']).count()"
   ]
  },
  {
   "cell_type": "code",
   "execution_count": 10,
   "metadata": {
    "collapsed": true,
    "deletable": true,
    "editable": true
   },
   "outputs": [],
   "source": [
    "big_df.to_excel('../tables/all_considered_docs.xlsx')\n",
    "\n",
    "qtdf.to_excel('../tables/all_queries.xlsx')"
   ]
  },
  {
   "cell_type": "code",
   "execution_count": null,
   "metadata": {
    "collapsed": true,
    "deletable": true,
    "editable": true
   },
   "outputs": [],
   "source": []
  },
  {
   "cell_type": "code",
   "execution_count": 11,
   "metadata": {
    "collapsed": false,
    "deletable": true,
    "editable": true
   },
   "outputs": [
    {
     "name": "stdout",
     "output_type": "stream",
     "text": [
      "68\n",
      "0\n",
      "enhanced_weathering_wos\n",
      "101\n",
      "0\n",
      "enhanced_weathering_wos_2\n",
      "637\n",
      "0\n",
      "soil_carbon_sequestration_scopus\n",
      "4\n",
      "0\n",
      "DAC_extra\n",
      "422\n",
      "9\n",
      "synonyms_all\n",
      "660\n",
      "0\n",
      "soil_carbon_sequestration\n",
      "396\n",
      "0\n",
      "beccs_scopus\n",
      "391\n",
      "6\n",
      "synonyms_scopus\n",
      "2\n",
      "0\n",
      "3A_ForestRDNarrowMissing\n",
      "2\n",
      "0\n",
      "2D_OceanDemandpullMissing\n"
     ]
    }
   ],
   "source": [
    "for q in queries[:10]:\n",
    "    ds = q.doc_set.all()\n",
    "    dids = list(q.doc_set.all().values_list('UT',flat=True))\n",
    "    ds = Doc.objects.filter(UT__in=dids)\n",
    "    print(ds.count())\n",
    "    ds = ds.annotate(\n",
    "        qs = Count('query')\n",
    "    )\n",
    "    print(ds.filter(qs__lt=4).count())\n",
    "    \n",
    "    print(q.title)"
   ]
  },
  {
   "cell_type": "code",
   "execution_count": 12,
   "metadata": {
    "collapsed": false,
    "deletable": true,
    "editable": true
   },
   "outputs": [
    {
     "name": "stdout",
     "output_type": "stream",
     "text": [
      "198\n",
      "198\n"
     ]
    },
    {
     "data": {
      "text/plain": [
       "'NETs_scoping_DAC'"
      ]
     },
     "execution_count": 12,
     "metadata": {},
     "output_type": "execute_result"
    }
   ],
   "source": [
    "q = queries.first()\n",
    "\n",
    "ds = q.doc_set.all()\n",
    "\n",
    "print(ds.count())\n",
    "\n",
    "ds = ds.annotate(\n",
    "    qs = Count('query')\n",
    ")\n",
    "\n",
    "print(ds.filter(qs__lt=2).count())\n",
    "\n",
    "q.title"
   ]
  },
  {
   "cell_type": "code",
   "execution_count": 13,
   "metadata": {
    "collapsed": false,
    "deletable": true,
    "editable": true
   },
   "outputs": [
    {
     "name": "stdout",
     "output_type": "stream",
     "text": [
      "1935\n",
      "273\n",
      "2134\n",
      "1977\n",
      "Production of synthetic methanol from air and water using controlled thermonuclear reactor power-I. technology and energy requirement\n",
      "3\n"
     ]
    }
   ],
   "source": [
    "\n",
    "\n",
    "trdocs = set(list(pdocs.filter(\n",
    "    docownership__relevant=1,\n",
    "    docownership__query__technology__in=techs\n",
    ").values_list('UT',flat=True)))\n",
    "\n",
    "ttdocs = set(list(Doc.objects.filter(\n",
    "    technology__in=techs\n",
    ").values_list('UT',flat=True)))\n",
    "\n",
    "print(len(trdocs))\n",
    "print(len(ttdocs))\n",
    "\n",
    "allreldocs =  Doc.objects.filter(\n",
    "    UT__in=trdocs.union(ttdocs)\n",
    ")\n",
    "\n",
    "print(allreldocs.count())\n",
    "\n",
    "print(allreldocs.order_by('PY').first().PY)\n",
    "print(allreldocs.order_by('PY').first().title)\n",
    "\n",
    "print(allreldocs.filter(PY__lt=1990).count())"
   ]
  }
 ],
 "metadata": {
  "kernelspec": {
   "display_name": "Python 3",
   "language": "python",
   "name": "python3"
  },
  "language_info": {
   "codemirror_mode": {
    "name": "ipython",
    "version": 3
   },
   "file_extension": ".py",
   "mimetype": "text/x-python",
   "name": "python",
   "nbconvert_exporter": "python",
   "pygments_lexer": "ipython3",
   "version": "3.4.3"
  }
 },
 "nbformat": 4,
 "nbformat_minor": 2
}
