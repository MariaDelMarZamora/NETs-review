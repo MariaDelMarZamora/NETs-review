{
 "cells": [
  {
   "cell_type": "code",
   "execution_count": 1,
   "metadata": {
    "collapsed": true,
    "deletable": true,
    "editable": true
   },
   "outputs": [],
   "source": [
    "import django, os, sys, time, resource, re, gc, shutil\n",
    "import numpy as np\n",
    "import matplotlib.pyplot as plt\n",
    "import pandas as pd\n",
    "from django.db.models import Count, Avg, F, Sum\n",
    "import math\n",
    "\n",
    "sys.path.append('/home/galm/software/django/tmv/BasicBrowser/')\n",
    "\n",
    "os.environ.setdefault(\"DJANGO_SETTINGS_MODULE\", \"BasicBrowser.settings\")\n",
    "django.setup()\n",
    "\n",
    "from scoping.models import *\n"
   ]
  },
  {
   "cell_type": "code",
   "execution_count": 11,
   "metadata": {
    "collapsed": false,
    "deletable": true,
    "editable": true
   },
   "outputs": [
    {
     "name": "stdout",
     "output_type": "stream",
     "text": [
      "113\n"
     ]
    }
   ],
   "source": [
    "alldocs = Doc.objects.filter(\n",
    "    query__project=2,\n",
    "    query__qtype='MN',\n",
    "    query__upload_link__category__project=2,\n",
    "    query__upload_link__category__gt=1,\n",
    "    wosarticle__ti__isnull=False\n",
    ")\n",
    "\n",
    "print(alldocs.count())\n",
    "\n"
   ]
  },
  {
   "cell_type": "code",
   "execution_count": null,
   "metadata": {
    "collapsed": false,
    "deletable": true,
    "editable": true
   },
   "outputs": [],
   "source": [
    "found = 0\n",
    "for d in alldocs:\n",
    "    print(repr(d.wosarticle.ti))\n",
    "    sdocs = Doc.objects.filter(\n",
    "        title=d.wosarticle.ti.replace('\\r','').replace('\\n','')\n",
    "    ).exclude(id=d.id)\n",
    "    if sdocs.count() > 0:\n",
    "        print(sdocs)\n",
    "        print(sdocs.first().title)\n",
    "        found +=1\n",
    "        \n",
    "print(\"FOUND {} docs in database\".format(found))"
   ]
  },
  {
   "cell_type": "code",
   "execution_count": null,
   "metadata": {
    "collapsed": true,
    "deletable": true,
    "editable": true
   },
   "outputs": [],
   "source": []
  },
  {
   "cell_type": "code",
   "execution_count": 30,
   "metadata": {
    "collapsed": false
   },
   "outputs": [
    {
     "data": {
      "text/html": [
       "<div>\n",
       "<table border=\"1\" class=\"dataframe\">\n",
       "  <thead>\n",
       "    <tr style=\"text-align: right;\">\n",
       "      <th></th>\n",
       "      <th>AU</th>\n",
       "      <th>category_id</th>\n",
       "      <th>clicked</th>\n",
       "      <th>docset</th>\n",
       "      <th>email</th>\n",
       "      <th>id</th>\n",
       "      <th>sent</th>\n",
       "      <th>sent_other_project</th>\n",
       "      <th>sent_other_tech</th>\n",
       "      <th>valid_docs</th>\n",
       "    </tr>\n",
       "  </thead>\n",
       "  <tbody>\n",
       "    <tr>\n",
       "      <th>0</th>\n",
       "      <td>Katterer, T</td>\n",
       "      <td>9</td>\n",
       "      <td>3</td>\n",
       "      <td>Katterer, T, Andersson, L, Andren, O, Persson,...</td>\n",
       "      <td>Thomas.Katterer@mv.slu.se</td>\n",
       "      <td>479d29c9-b90e-4327-995d-ac509c2de532</td>\n",
       "      <td>True</td>\n",
       "      <td>False</td>\n",
       "      <td>False</td>\n",
       "      <td>3</td>\n",
       "    </tr>\n",
       "    <tr>\n",
       "      <th>1</th>\n",
       "      <td>Tan, BC</td>\n",
       "      <td>9</td>\n",
       "      <td>0</td>\n",
       "      <td>Tan, BC, Fan, JB, He, YQ, Luo, SM, Peng, XH (2...</td>\n",
       "      <td>tanbch@issas.ac.cn</td>\n",
       "      <td>e4d802d2-83b0-4a43-8afc-aee5aa510d2a</td>\n",
       "      <td>True</td>\n",
       "      <td>False</td>\n",
       "      <td>False</td>\n",
       "      <td>0</td>\n",
       "    </tr>\n",
       "    <tr>\n",
       "      <th>2</th>\n",
       "      <td>Berti, A</td>\n",
       "      <td>9</td>\n",
       "      <td>0</td>\n",
       "      <td>Lugato, E, Berti, A (2008) Potential carbon se...</td>\n",
       "      <td>antonio.berti@unipd.it</td>\n",
       "      <td>5dbe9fa8-8e8b-48fb-a454-3ae313db977a</td>\n",
       "      <td>True</td>\n",
       "      <td>False</td>\n",
       "      <td>False</td>\n",
       "      <td>0</td>\n",
       "    </tr>\n",
       "    <tr>\n",
       "      <th>3</th>\n",
       "      <td>Gaiser, T</td>\n",
       "      <td>9</td>\n",
       "      <td>0</td>\n",
       "      <td>Gaiser, T, Stahr, K, Billen, N, Mohammad, MAR ...</td>\n",
       "      <td>tgaiser@uni-bonn.de</td>\n",
       "      <td>9ef795d2-2480-40b1-bb11-e7a64569ab5c</td>\n",
       "      <td>True</td>\n",
       "      <td>False</td>\n",
       "      <td>False</td>\n",
       "      <td>0</td>\n",
       "    </tr>\n",
       "    <tr>\n",
       "      <th>4</th>\n",
       "      <td>Arora, VK</td>\n",
       "      <td>9</td>\n",
       "      <td>0</td>\n",
       "      <td>Arora, VK, Boer, GJ (2010) Uncertainties in th...</td>\n",
       "      <td>Vivek.Arora@ec.gc.ca</td>\n",
       "      <td>11632d38-d91f-4034-98ce-189d35051993</td>\n",
       "      <td>True</td>\n",
       "      <td>False</td>\n",
       "      <td>False</td>\n",
       "      <td>0</td>\n",
       "    </tr>\n",
       "  </tbody>\n",
       "</table>\n",
       "</div>"
      ],
      "text/plain": [
       "            AU  category_id  clicked  \\\n",
       "0  Katterer, T            9        3   \n",
       "1      Tan, BC            9        0   \n",
       "2     Berti, A            9        0   \n",
       "3    Gaiser, T            9        0   \n",
       "4    Arora, VK            9        0   \n",
       "\n",
       "                                              docset  \\\n",
       "0  Katterer, T, Andersson, L, Andren, O, Persson,...   \n",
       "1  Tan, BC, Fan, JB, He, YQ, Luo, SM, Peng, XH (2...   \n",
       "2  Lugato, E, Berti, A (2008) Potential carbon se...   \n",
       "3  Gaiser, T, Stahr, K, Billen, N, Mohammad, MAR ...   \n",
       "4  Arora, VK, Boer, GJ (2010) Uncertainties in th...   \n",
       "\n",
       "                       email                                    id  sent  \\\n",
       "0  Thomas.Katterer@mv.slu.se  479d29c9-b90e-4327-995d-ac509c2de532  True   \n",
       "1         tanbch@issas.ac.cn  e4d802d2-83b0-4a43-8afc-aee5aa510d2a  True   \n",
       "2     antonio.berti@unipd.it  5dbe9fa8-8e8b-48fb-a454-3ae313db977a  True   \n",
       "3        tgaiser@uni-bonn.de  9ef795d2-2480-40b1-bb11-e7a64569ab5c  True   \n",
       "4       Vivek.Arora@ec.gc.ca  11632d38-d91f-4034-98ce-189d35051993  True   \n",
       "\n",
       "  sent_other_project sent_other_tech  valid_docs  \n",
       "0              False           False           3  \n",
       "1              False           False           0  \n",
       "2              False           False           0  \n",
       "3              False           False           0  \n",
       "4              False           False           0  "
      ]
     },
     "execution_count": 30,
     "metadata": {},
     "output_type": "execute_result"
    }
   ],
   "source": [
    "ems = EmailTokens.objects.filter(sent=True,category__gt=1,category__project=2)\n",
    "\n",
    "\n",
    "for em in ems.iterator():\n",
    "    em.valid_docs = Doc.objects.filter(query__upload_link=em,wosarticle__ti__isnull=False).distinct().count()\n",
    "    em.save()\n",
    "    \n",
    "    \n",
    "\n",
    "\n",
    "df = pd.DataFrame.from_dict(list(ems.values()))\n",
    "\n",
    "\n",
    "\n",
    "df.head()"
   ]
  },
  {
   "cell_type": "code",
   "execution_count": null,
   "metadata": {
    "collapsed": true
   },
   "outputs": [],
   "source": []
  },
  {
   "cell_type": "code",
   "execution_count": 49,
   "metadata": {
    "collapsed": false
   },
   "outputs": [
    {
     "ename": "ImportError",
     "evalue": "cannot import name 'Subquery'",
     "output_type": "error",
     "traceback": [
      "\u001b[0;31m---------------------------------------------------------------------------\u001b[0m",
      "\u001b[0;31mImportError\u001b[0m                               Traceback (most recent call last)",
      "\u001b[0;32m<ipython-input-49-01b03b63458f>\u001b[0m in \u001b[0;36m<module>\u001b[0;34m()\u001b[0m\n\u001b[0;32m----> 1\u001b[0;31m \u001b[0;32mfrom\u001b[0m \u001b[0mdjango\u001b[0m\u001b[0;34m.\u001b[0m\u001b[0mdb\u001b[0m\u001b[0;34m.\u001b[0m\u001b[0mmodels\u001b[0m \u001b[0;32mimport\u001b[0m \u001b[0mSubquery\u001b[0m\u001b[0;34m\u001b[0m\u001b[0m\n\u001b[0m\u001b[1;32m      2\u001b[0m \u001b[0;34m\u001b[0m\u001b[0m\n\u001b[1;32m      3\u001b[0m em_bycat = ems.values('category__name').annotate(\n\u001b[1;32m      4\u001b[0m     \u001b[0ma_emails_sent\u001b[0m \u001b[0;34m=\u001b[0m \u001b[0mCount\u001b[0m\u001b[0;34m(\u001b[0m\u001b[0;34m'id'\u001b[0m\u001b[0;34m)\u001b[0m\u001b[0;34m,\u001b[0m\u001b[0;34m\u001b[0m\u001b[0m\n\u001b[1;32m      5\u001b[0m     \u001b[0mb_clicks_received\u001b[0m \u001b[0;34m=\u001b[0m \u001b[0mSum\u001b[0m\u001b[0;34m(\u001b[0m\u001b[0;34m'clicked'\u001b[0m\u001b[0;34m)\u001b[0m\u001b[0;34m,\u001b[0m\u001b[0;34m\u001b[0m\u001b[0m\n",
      "\u001b[0;31mImportError\u001b[0m: cannot import name 'Subquery'"
     ]
    }
   ],
   "source": [
    "from django.db.models import Subquery\n",
    "\n",
    "em_bycat = ems.values('category__name').annotate(\n",
    "    a_emails_sent = Count('id'),\n",
    "    b_clicks_received = Sum('clicked'),\n",
    "    c_docs_added = Sum('valid_docs'),\n",
    "    c = Subquery(query__doc.filter(wosarticle__ti__isnull=False))\n",
    "    c = models.Sum(\n",
    "        models.Case(\n",
    "            models.When(wosarticle__ti__isnull=Fakse, then=1),\n",
    "            default=0, output_field=models.IntegerField()\n",
    "    )))\n",
    ")\n",
    "\n",
    "bc = pd.DataFrame.from_dict(list(em_bycat))\n",
    "\n",
    "bc.head(15)\n",
    "\n"
   ]
  },
  {
   "cell_type": "code",
   "execution_count": 45,
   "metadata": {
    "collapsed": false
   },
   "outputs": [
    {
     "data": {
      "image/png": "[encoded data removed]",
      "text/plain": [
       "<matplotlib.figure.Figure at 0x7f0926a61518>"
      ]
     },
     "metadata": {},
     "output_type": "display_data"
    }
   ],
   "source": [
    "plt.rcParams[\"figure.figsize\"] = [12,8]\n",
    "\n",
    "\n",
    "pdf = bc.set_index('category__name')\n",
    "\n",
    "pdf.plot.bar()\n",
    "\n",
    "plt.text(0.5,225,\"Emails sent: {}\".format(pdf['a_emails_sent'].sum()))\n",
    "plt.text(0.5,200,\"Clicks recieved: {}\".format(pdf['b_clicks_received'].sum()))\n",
    "plt.text(0.5,175,\"Docs added: {}\".format(pdf['c_docs_added'].sum()))\n",
    "\n",
    "\n",
    "plt.show()"
   ]
  }
 ],
 "metadata": {
  "kernelspec": {
   "display_name": "Python 3",
   "language": "python",
   "name": "python3"
  },
  "language_info": {
   "codemirror_mode": {
    "name": "ipython",
    "version": 3
   },
   "file_extension": ".py",
   "mimetype": "text/x-python",
   "name": "python",
   "nbconvert_exporter": "python",
   "pygments_lexer": "ipython3",
   "version": "3.4.3"
  }
 },
 "nbformat": 4,
 "nbformat_minor": 2
}
