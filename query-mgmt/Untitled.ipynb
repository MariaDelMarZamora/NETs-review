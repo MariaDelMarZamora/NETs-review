{
 "cells": [
  {
   "cell_type": "code",
   "execution_count": 1,
   "metadata": {
    "collapsed": true
   },
   "outputs": [],
   "source": [
    "import django, os, sys, time, resource, re, gc, shutil\n",
    "import numpy as np\n",
    "import matplotlib.pyplot as plt\n",
    "import pandas as pd\n",
    "from django.db.models import Count, Avg, F, Sum\n",
    "import math\n",
    "\n",
    "sys.path.append('/home/galm/software/django/tmv/BasicBrowser/')\n",
    "\n",
    "os.environ.setdefault(\"DJANGO_SETTINGS_MODULE\", \"BasicBrowser.settings\")\n",
    "django.setup()\n",
    "\n",
    "from scoping.models import *\n",
    "from utils.utils import ars"
   ]
  },
  {
   "cell_type": "code",
   "execution_count": 27,
   "metadata": {
    "collapsed": false
   },
   "outputs": [
    {
     "data": {
      "text/plain": [
       "<QuerySet [<Doc: WOS:000232019600013>]>"
      ]
     },
     "execution_count": 27,
     "metadata": {},
     "output_type": "execute_result"
    }
   ],
   "source": [
    "doc = Doc.objects.filter(title__icontains=\"CO2 storage in saline aquifers\",PY=2005)\n",
    "doc"
   ]
  },
  {
   "cell_type": "code",
   "execution_count": 29,
   "metadata": {
    "collapsed": false
   },
   "outputs": [
    {
     "data": {
      "text/plain": [
       "'CO2 storage in saline aquifers'"
      ]
     },
     "execution_count": 29,
     "metadata": {},
     "output_type": "execute_result"
    }
   ],
   "source": [
    "doc.first().title"
   ]
  },
  {
   "cell_type": "code",
   "execution_count": 31,
   "metadata": {
    "collapsed": false
   },
   "outputs": [
    {
     "data": {
      "text/plain": [
       "<QuerySet [{'title': 'scopus_all', 'technology': None, 'id': 354}, {'title': 'wos_all', 'technology': None, 'id': 365}, {'title': 'climate_all', 'technology': None, 'id': 894}, {'title': 'CCS storage ', 'technology': None, 'id': 1034}, {'title': 'CCS storage_scopus', 'technology': None, 'id': 1036}, {'title': 'ccs storage_both', 'technology': None, 'id': 1038}, {'title': 'CCS storage WOS2', 'technology': None, 'id': 1250}, {'title': 'CCS storage', 'technology': None, 'id': 1251}, {'title': 'ccs storage final both', 'technology': 14, 'id': 1252}, {'title': 'NETS_all_relevant', 'technology': None, 'id': 1558}, {'title': 'NETS_before_2006', 'technology': None, 'id': 1562}, {'title': 'NETS_before_2013', 'technology': None, 'id': 1564}, {'title': 'NETS_scopus_retry_y2', 'technology': None, 'id': 1572}]>"
      ]
     },
     "execution_count": 31,
     "metadata": {},
     "output_type": "execute_result"
    }
   ],
   "source": [
    "doc.first().query.all().values(\"id\",\"title\",\"technology\")"
   ]
  },
  {
   "cell_type": "code",
   "execution_count": 24,
   "metadata": {
    "collapsed": false
   },
   "outputs": [],
   "source": [
    "storage = Technology.objects.get(name=\"Geological Storage\")\n",
    "nets = Project.objects.get(title=\"NETs\")\n",
    "storage.project=nets\n",
    "storage.save()"
   ]
  },
  {
   "cell_type": "code",
   "execution_count": null,
   "metadata": {
    "collapsed": true
   },
   "outputs": [],
   "source": [
    "Technology.objects.filter(project)"
   ]
  }
 ],
 "metadata": {
  "kernelspec": {
   "display_name": "Python 3",
   "language": "python",
   "name": "python3"
  },
  "language_info": {
   "codemirror_mode": {
    "name": "ipython",
    "version": 3
   },
   "file_extension": ".py",
   "mimetype": "text/x-python",
   "name": "python",
   "nbconvert_exporter": "python",
   "pygments_lexer": "ipython3",
   "version": "3.4.3"
  }
 },
 "nbformat": 4,
 "nbformat_minor": 2
}
