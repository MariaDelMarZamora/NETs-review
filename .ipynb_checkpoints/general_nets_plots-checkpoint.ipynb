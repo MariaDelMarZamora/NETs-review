{
 "cells": [
  {
   "cell_type": "code",
   "execution_count": 1,
   "metadata": {
    "collapsed": true
   },
   "outputs": [],
   "source": [
    "import django, os, sys, time, resource, re, gc, shutil\n",
    "import numpy as np\n",
    "import matplotlib.pyplot as plt\n",
    "import pandas as pd\n",
    "from django.db.models import Count, Avg, F\n",
    "\n",
    "sys.path.append('/home/galm/software/django/tmv/BasicBrowser/')\n",
    "\n",
    "os.environ.setdefault(\"DJANGO_SETTINGS_MODULE\", \"BasicBrowser.settings\")\n",
    "django.setup()\n",
    "\n",
    "from scoping.models import *\n",
    "\n",
    "\n",
    "\n"
   ]
  },
  {
   "cell_type": "code",
   "execution_count": 17,
   "metadata": {
    "collapsed": true
   },
   "outputs": [],
   "source": [
    "\n",
    "p = Project.objects.get(title=\"NETs\")\n",
    "pdocs = Doc.objects.filter(query__project=p)\n",
    "\n",
    "trdocs = set(list(pdocs.filter(docownership__relevant=1).values_list('UT',flat=True)))\n",
    "\n",
    "ttdocs = set(list(Doc.objects.filter(technology__project=p).values_list('UT',flat=True)))"
   ]
  },
  {
   "cell_type": "code",
   "execution_count": 18,
   "metadata": {
    "collapsed": false
   },
   "outputs": [
    {
     "name": "stdout",
     "output_type": "stream",
     "text": [
      "2028\n",
      "268\n",
      "2220\n"
     ]
    }
   ],
   "source": [
    "print(len(trdocs))\n",
    "print(len(ttdocs))\n",
    "\n",
    "allreldocs =  Doc.objects.filter(\n",
    "    UT__in=trdocs.union(ttdocs)\n",
    ")\n",
    "\n",
    "print(allreldocs.count())\n"
   ]
  },
  {
   "cell_type": "code",
   "execution_count": 26,
   "metadata": {
    "collapsed": false
   },
   "outputs": [],
   "source": [
    "doc_dict = []\n",
    "\n",
    "ts = Technology.objects.filter(\n",
    "    project=p\n",
    ").exclude(\n",
    "    name__in=['Bioenergy','ethics & Morals']\n",
    ")\n",
    "pys = list(range(1990,2017))\n",
    "for t in ts:\n",
    "    for py in pys:\n",
    "        ydocs = allreldocs.filter(PY=py)\n",
    "        trdocs = set(list(ydocs.filter(\n",
    "            query__technology=t,docownership__relevant=1,docownership__query__technology=t\n",
    "        ).values_list('UT',flat=True)))\n",
    "        ttdocs = set(list(ydocs.filter(\n",
    "            technology=t\n",
    "        ).values_list('UT',flat=True)))\n",
    "        tdocs = Doc.objects.filter(\n",
    "            UT__in=trdocs.union(ttdocs)\n",
    "        )\n",
    "        d = {\n",
    "            'Technology': t.name,\n",
    "            'PY': py,\n",
    "            'n': tdocs.count()\n",
    "        }\n",
    "        doc_dict.append(d)"
   ]
  },
  {
   "cell_type": "code",
   "execution_count": 28,
   "metadata": {
    "collapsed": false
   },
   "outputs": [],
   "source": [
    "df = pd.DataFrame.from_dict(doc_dict)\n"
   ]
  },
  {
   "cell_type": "code",
   "execution_count": 37,
   "metadata": {
    "collapsed": false
   },
   "outputs": [
    {
     "data": {
      "image/png": "[encoded data removed]",
      "text/plain": [
       "<matplotlib.figure.Figure at 0x7f3699819550>"
      ]
     },
     "metadata": {},
     "output_type": "display_data"
    }
   ],
   "source": [
    "plt.rcParams[\"figure.figsize\"] = [8,5]\n",
    "\n",
    "pdf = df.pivot(\n",
    "    index='PY',\n",
    "    columns='Technology',\n",
    "    values='n'\n",
    ")\n",
    "\n",
    "fig, ax = plt.subplots()\n",
    "\n",
    "techorder = list(Technology.objects.filter(project=p).order_by('-ndocs').values_list('name',flat=True))\n",
    "\n",
    "\n",
    "df['Technology'] = pd.Categorical(\n",
    "    pt['Technology'],\n",
    "    [\n",
    "        \"Soil Carbon Sequestration\",\n",
    "        \"Scaleup\",\n",
    "        \"Demandpull\",\n",
    "        \"Publicaccept\",\n",
    "        \"Demos\",\n",
    "        \"Nichemarkets\"\n",
    "    ]\n",
    ")\n",
    "\n",
    "pdf.plot.bar(stacked=True, ax=ax,legend=False)\n",
    "\n",
    "handles, labels = ax.get_legend_handles_labels()\n",
    "#lpos = (0.85,2.5)\n",
    "\n",
    "\n",
    "ax.legend(handles[::-1], labels[::-1],title='Technology')\n",
    "\n",
    "ax.set_xlabel('Year')\n",
    "ax.set_ylabel('Number of Publications')\n",
    "\n",
    "plt.savefig('plots/general/by_tech.png',bbox_inches='tight') \n",
    "\n",
    "plt.show()\n",
    "\n"
   ]
  },
  {
   "cell_type": "code",
   "execution_count": null,
   "metadata": {
    "collapsed": true
   },
   "outputs": [],
   "source": []
  }
 ],
 "metadata": {
  "kernelspec": {
   "display_name": "Python 3",
   "language": "python",
   "name": "python3"
  },
  "language_info": {
   "codemirror_mode": {
    "name": "ipython",
    "version": 3
   },
   "file_extension": ".py",
   "mimetype": "text/x-python",
   "name": "python",
   "nbconvert_exporter": "python",
   "pygments_lexer": "ipython3",
   "version": "3.4.3"
  }
 },
 "nbformat": 4,
 "nbformat_minor": 2
}
