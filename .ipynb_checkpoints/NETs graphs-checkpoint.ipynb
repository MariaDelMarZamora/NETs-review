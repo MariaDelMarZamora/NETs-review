{
 "cells": [
  {
   "cell_type": "code",
   "execution_count": 1,
   "metadata": {
    "collapsed": true,
    "deletable": true,
    "editable": true
   },
   "outputs": [],
   "source": [
    "import django, os, sys, time, resource, re, gc, shutil\n",
    "import numpy as np\n",
    "import matplotlib.pyplot as plt\n",
    "import pandas as pd\n",
    "from django.db.models import Count, Avg, F\n",
    "\n",
    "sys.path.append('/home/galm/software/django/tmv/BasicBrowser/')\n",
    "\n",
    "os.environ.setdefault(\"DJANGO_SETTINGS_MODULE\", \"BasicBrowser.settings\")\n",
    "django.setup()\n",
    "\n",
    "from scoping.models import *"
   ]
  },
  {
   "cell_type": "code",
   "execution_count": 2,
   "metadata": {
    "collapsed": false,
    "deletable": true,
    "editable": true
   },
   "outputs": [],
   "source": [
    "p = Project.objects.get(title=\"NETs\")\n",
    "pdocs = Doc.objects.filter(query__project=p) | Doc.objects.filter(technology__project=p)\n",
    "\n",
    "trdocs = set(list(pdocs.filter(docownership__relevant=1).values_list('UT',flat=True)))\n",
    "\n",
    "irdocs = set(list(pdocs.filter(docownership__relevant=5).values_list('UT',flat=True)))\n",
    "\n",
    "inrateddocs = set(list(pdocs.filter(docownership__relevant__in=[5,6,7,8]).values_list('UT',flat=True)))\n"
   ]
  },
  {
   "cell_type": "code",
   "execution_count": 3,
   "metadata": {
    "collapsed": false,
    "deletable": true,
    "editable": true
   },
   "outputs": [
    {
     "name": "stdout",
     "output_type": "stream",
     "text": [
      "1777\n",
      "1792\n",
      "2399\n",
      "891\n",
      "675\n"
     ]
    }
   ],
   "source": [
    "print(len(trdocs))\n",
    "print(len(irdocs))\n",
    "print(len(inrateddocs))\n",
    "\n",
    "print(len(trdocs.intersection(inrateddocs)))\n",
    "\n",
    "alltdocs = pdocs.distinct().filter(\n",
    "    UT__in=trdocs\n",
    ")\n",
    "\n",
    "allreldocs = pdocs.distinct().filter(\n",
    "    UT__in=trdocs.intersection(irdocs)\n",
    ")\n",
    "\n",
    "alliratdocs = pdocs.distinct().filter(\n",
    "    UT__in=trdocs.intersection(inrateddocs)\n",
    ")\n",
    "\n",
    "print(allreldocs.count())"
   ]
  },
  {
   "cell_type": "code",
   "execution_count": null,
   "metadata": {
    "collapsed": false,
    "deletable": true,
    "editable": true
   },
   "outputs": [],
   "source": []
  },
  {
   "cell_type": "code",
   "execution_count": null,
   "metadata": {
    "collapsed": false,
    "deletable": true,
    "editable": true
   },
   "outputs": [],
   "source": []
  },
  {
   "cell_type": "code",
   "execution_count": null,
   "metadata": {
    "collapsed": false,
    "deletable": true,
    "editable": true
   },
   "outputs": [],
   "source": []
  },
  {
   "cell_type": "code",
   "execution_count": null,
   "metadata": {
    "collapsed": false,
    "deletable": true,
    "editable": true
   },
   "outputs": [],
   "source": []
  },
  {
   "cell_type": "code",
   "execution_count": null,
   "metadata": {
    "collapsed": true,
    "deletable": true,
    "editable": true
   },
   "outputs": [],
   "source": []
  },
  {
   "cell_type": "code",
   "execution_count": 4,
   "metadata": {
    "collapsed": false,
    "deletable": true,
    "editable": true
   },
   "outputs": [
    {
     "data": {
      "text/html": [
       "<div>\n",
       "<table border=\"1\" class=\"dataframe\">\n",
       "  <thead>\n",
       "    <tr style=\"text-align: right;\">\n",
       "      <th></th>\n",
       "      <th>PY</th>\n",
       "      <th>docownership__query__innovation__name</th>\n",
       "      <th>n</th>\n",
       "    </tr>\n",
       "  </thead>\n",
       "  <tbody>\n",
       "    <tr>\n",
       "      <th>0</th>\n",
       "      <td>2007</td>\n",
       "      <td>RD</td>\n",
       "      <td>21</td>\n",
       "    </tr>\n",
       "    <tr>\n",
       "      <th>1</th>\n",
       "      <td>2012</td>\n",
       "      <td>Scaleup</td>\n",
       "      <td>20</td>\n",
       "    </tr>\n",
       "    <tr>\n",
       "      <th>2</th>\n",
       "      <td>2006</td>\n",
       "      <td>Scaleup</td>\n",
       "      <td>6</td>\n",
       "    </tr>\n",
       "    <tr>\n",
       "      <th>3</th>\n",
       "      <td>2015</td>\n",
       "      <td>RD</td>\n",
       "      <td>58</td>\n",
       "    </tr>\n",
       "    <tr>\n",
       "      <th>4</th>\n",
       "      <td>2004</td>\n",
       "      <td>RD</td>\n",
       "      <td>11</td>\n",
       "    </tr>\n",
       "  </tbody>\n",
       "</table>\n",
       "</div>"
      ],
      "text/plain": [
       "     PY docownership__query__innovation__name   n\n",
       "0  2007                                    RD  21\n",
       "1  2012                               Scaleup  20\n",
       "2  2006                               Scaleup   6\n",
       "3  2015                                    RD  58\n",
       "4  2004                                    RD  11"
      ]
     },
     "execution_count": 4,
     "metadata": {},
     "output_type": "execute_result"
    }
   ],
   "source": [
    "allidocs = allreldocs.filter(\n",
    "    docownership__relevant=5,\n",
    ").values('PY','docownership__query__innovation__name').annotate(\n",
    "    n = Count('pk', distinct = True)\n",
    ")\n",
    "df = pd.DataFrame.from_dict(list(allidocs))\n",
    "df.head()"
   ]
  },
  {
   "cell_type": "code",
   "execution_count": null,
   "metadata": {
    "collapsed": false,
    "deletable": true,
    "editable": true
   },
   "outputs": [],
   "source": []
  },
  {
   "cell_type": "code",
   "execution_count": 5,
   "metadata": {
    "collapsed": false,
    "deletable": true,
    "editable": true
   },
   "outputs": [
    {
     "name": "stdout",
     "output_type": "stream",
     "text": [
      "     PY docownership__query__innovation__name    n\n",
      "0  1990                            Demandpull  0.0\n",
      "1  1990                                 Demos  0.0\n",
      "2  1990                          Nichemarkets  0.0\n",
      "3  1990                          Publicaccept  0.0\n",
      "4  1990                                    RD  0.0\n",
      "      PY docownership__query__innovation__name     n\n",
      "46  1997                                    RD   3.0\n",
      "82  2003                                    RD   5.0\n",
      "94  2005                                    RD  22.0\n",
      "28  1994                                    RD   2.0\n",
      "34  1995                                    RD   3.0\n"
     ]
    },
    {
     "data": {
      "image/png": "[encoded data removed]",
      "text/plain": [
       "<matplotlib.figure.Figure at 0x7f6d11a12588>"
      ]
     },
     "metadata": {},
     "output_type": "display_data"
    }
   ],
   "source": [
    "plt.rcParams[\"figure.figsize\"] = [12,8]\n",
    "\n",
    "fig, axs = plt.subplots(nrows=2,ncols=3,gridspec_kw=dict(hspace=0.4))\n",
    "\n",
    "pt = pd.pivot_table(\n",
    "    df,\n",
    "    values='n',\n",
    "    columns=['PY'],\n",
    "    index=['docownership__query__innovation__name'],\n",
    "    fill_value=0\n",
    ")\n",
    "\n",
    "fullindex = pd.DatetimeIndex(freq='1A', start='1974', end='2017')\n",
    "\n",
    "pt = (\n",
    "    df.set_index(['PY','docownership__query__innovation__name'])\n",
    "        .unstack(level='docownership__query__innovation__name')\n",
    "        .reindex(range(1990,2018))\n",
    "        .fillna(0)\n",
    "        .stack()\n",
    "        .reset_index()\n",
    ")\n",
    "\n",
    "print(pt.head())\n",
    "\n",
    "iorder = [\n",
    "    \"RD\",\n",
    "    \"Scaleup\",\n",
    "    \"Demandpull\",\n",
    "    \"Publicaccept\",\n",
    "    \"Demos\",\n",
    "    \"Nichemarkets\"\n",
    "]\n",
    "\n",
    "\n",
    "pt['docownership__query__innovation__name'] = pd.Categorical(pt['docownership__query__innovation__name'],iorder)\n",
    "\n",
    "pt = pt.sort_values(['docownership__query__innovation__name'])\n",
    "\n",
    "print(pt.head())\n",
    "\n",
    "\n",
    "grouped =  pt.groupby('docownership__query__innovation__name')\n",
    "\n",
    "#grouped = grouped.sort_values('docownership__query__innovation__name')\n",
    "\n",
    "targets = zip(iorder, axs.flatten())\n",
    "\n",
    "n = 5\n",
    "\n",
    "for i, (key, ax) in enumerate(targets):\n",
    "    \n",
    "    group = grouped.get_group(key)\n",
    "    \n",
    "    group = group.sort_values('PY')\n",
    "    group = group.set_index('PY')\n",
    "    group.plot.bar(ax=ax, legend=False)\n",
    "    #ax.bar(group.index,group['n'])\n",
    "    #ax.bar(group,group[['n']])\n",
    "    \n",
    "    ticks = ax.xaxis.get_ticklocs()\n",
    "    ticklabels = [l.get_text() for l in ax.xaxis.get_ticklabels()]\n",
    "    ax.xaxis.set_ticks(ticks[::n])\n",
    "    ax.xaxis.set_ticklabels(ticklabels[::n])\n",
    "    \n",
    "    if key==\"RD\":   \n",
    "        m = 100\n",
    "    else:   \n",
    "        m = 50\n",
    "        \n",
    "    ax.set_ylim(0,m)\n",
    "    \n",
    "    \n",
    "    ax.set_title(key)\n",
    "    \n",
    "    s = \"N = {:d}\".format(int(group.sum()['n']))\n",
    "    \n",
    "    ax.text(1,m*0.8, s)\n",
    "    \n",
    "\n",
    "plt.savefig('plots/1_1_1.png',bbox_inches='tight') \n",
    "plt.show()"
   ]
  },
  {
   "cell_type": "code",
   "execution_count": null,
   "metadata": {
    "collapsed": false,
    "deletable": true,
    "editable": true
   },
   "outputs": [],
   "source": []
  },
  {
   "cell_type": "code",
   "execution_count": 6,
   "metadata": {
    "collapsed": false,
    "deletable": true,
    "editable": true
   },
   "outputs": [
    {
     "data": {
      "text/html": [
       "<div>\n",
       "<table border=\"1\" class=\"dataframe\">\n",
       "  <thead>\n",
       "    <tr style=\"text-align: right;\">\n",
       "      <th></th>\n",
       "      <th>PY</th>\n",
       "      <th>docownership__query__innovation__name</th>\n",
       "      <th>docownership__query__technology__name</th>\n",
       "      <th>n</th>\n",
       "    </tr>\n",
       "  </thead>\n",
       "  <tbody>\n",
       "    <tr>\n",
       "      <th>397</th>\n",
       "      <td>1990</td>\n",
       "      <td>Scaleup</td>\n",
       "      <td>Afforestation/reforestation</td>\n",
       "      <td>0</td>\n",
       "    </tr>\n",
       "    <tr>\n",
       "      <th>231</th>\n",
       "      <td>1991</td>\n",
       "      <td>Scaleup</td>\n",
       "      <td>Afforestation/reforestation</td>\n",
       "      <td>1</td>\n",
       "    </tr>\n",
       "    <tr>\n",
       "      <th>295</th>\n",
       "      <td>1991</td>\n",
       "      <td>None</td>\n",
       "      <td>Afforestation/reforestation</td>\n",
       "      <td>2</td>\n",
       "    </tr>\n",
       "    <tr>\n",
       "      <th>329</th>\n",
       "      <td>1991</td>\n",
       "      <td>RD</td>\n",
       "      <td>Afforestation/reforestation</td>\n",
       "      <td>2</td>\n",
       "    </tr>\n",
       "    <tr>\n",
       "      <th>96</th>\n",
       "      <td>1992</td>\n",
       "      <td>None</td>\n",
       "      <td>Afforestation/reforestation</td>\n",
       "      <td>2</td>\n",
       "    </tr>\n",
       "  </tbody>\n",
       "</table>\n",
       "</div>"
      ],
      "text/plain": [
       "       PY docownership__query__innovation__name  \\\n",
       "397  1990                               Scaleup   \n",
       "231  1991                               Scaleup   \n",
       "295  1991                                  None   \n",
       "329  1991                                    RD   \n",
       "96   1992                                  None   \n",
       "\n",
       "    docownership__query__technology__name  n  \n",
       "397           Afforestation/reforestation  0  \n",
       "231           Afforestation/reforestation  1  \n",
       "295           Afforestation/reforestation  2  \n",
       "329           Afforestation/reforestation  2  \n",
       "96            Afforestation/reforestation  2  "
      ]
     },
     "execution_count": 6,
     "metadata": {},
     "output_type": "execute_result"
    }
   ],
   "source": [
    "allds = allreldocs.filter(\n",
    "    docownership__relevant__in=[5,1],\n",
    ").values(\n",
    "    'docownership__query__innovation__name',\n",
    "    'docownership__query__technology__name',\n",
    "    'PY'\n",
    ").annotate(\n",
    "    n = Count('pk', distinct = True)\n",
    ")\n",
    "lallds = list(allds)\n",
    "lallds.append({\n",
    "    \"PY\":1990,\n",
    "    \"docownership__query__innovation__name\": \"Scaleup\",\n",
    "    \"docownership__query__technology__name\": \"Afforestation/reforestation\",\n",
    "    \"n\": 0\n",
    "})\n",
    "adf = pd.DataFrame.from_dict(lallds)\n",
    "adf = adf[adf['docownership__query__innovation__name'] != \"None\"]\n",
    "adf.sort_values('PY').head()"
   ]
  },
  {
   "cell_type": "code",
   "execution_count": 7,
   "metadata": {
    "collapsed": false,
    "deletable": true,
    "editable": true
   },
   "outputs": [],
   "source": [
    "reindexes = [\n",
    "    ('PY','docownership__query__technology__name','docownership__query__innovation__name'),\n",
    "    ('PY','docownership__query__innovation__name','docownership__query__technology__name'),\n",
    "    ('docownership__query__innovation__name','docownership__query__technology__name','PY')\n",
    "]\n",
    "\n",
    "pt = adf\n",
    "\n",
    "for x in reindexes:\n",
    "\n",
    "    pt = pd.pivot_table(\n",
    "        pt,\n",
    "        values='n',\n",
    "        columns=[x[2]],\n",
    "        index=[x[0],x[1]],\n",
    "        fill_value=0\n",
    "    ).reset_index()\n",
    "\n",
    "\n",
    "    pt = pd.melt(\n",
    "        pt,\n",
    "        id_vars=[x[0],x[1]],\n",
    "        value_name='n'\n",
    "    ).reset_index()\n",
    "\n",
    "pt['docownership__query__innovation__name'] = pd.Categorical(pt['docownership__query__innovation__name'],\n",
    "                                                            [\n",
    "                                                                \"RD\",\n",
    "                                                                \"Scaleup\",\n",
    "                                                                \"Demandpull\",\n",
    "                                                                \"Publicaccept\",\n",
    "                                                                \"Demos\",\n",
    "                                                                \"Nichemarkets\"\n",
    "                                                            ])\n",
    "\n",
    "pt = pt.sort_values(['PY','docownership__query__innovation__name'])\n"
   ]
  },
  {
   "cell_type": "code",
   "execution_count": null,
   "metadata": {
    "collapsed": false,
    "deletable": true,
    "editable": true
   },
   "outputs": [],
   "source": []
  },
  {
   "cell_type": "code",
   "execution_count": null,
   "metadata": {
    "collapsed": true,
    "deletable": true,
    "editable": true
   },
   "outputs": [],
   "source": []
  },
  {
   "cell_type": "code",
   "execution_count": 8,
   "metadata": {
    "collapsed": false,
    "deletable": true,
    "editable": true
   },
   "outputs": [
    {
     "data": {
      "image/png": "[encoded data removed]",
      "text/plain": [
       "<matplotlib.figure.Figure at 0x7f6d11877eb8>"
      ]
     },
     "metadata": {},
     "output_type": "display_data"
    },
    {
     "data": {
      "image/png": "[encoded data removed]",
      "text/plain": [
       "<matplotlib.figure.Figure at 0x7f6d0d4f4470>"
      ]
     },
     "metadata": {},
     "output_type": "display_data"
    }
   ],
   "source": [
    "groupings = [\n",
    "    ('docownership__query__innovation__name','docownership__query__technology__name',2),\n",
    "    ('docownership__query__technology__name','docownership__query__innovation__name',3),\n",
    "]\n",
    "\n",
    "\n",
    "for x in groupings:\n",
    "    \n",
    "    plt.rcParams[\"figure.figsize\"] = [12,4*x[2]]\n",
    "    \n",
    "    grouped = pt.groupby(x[0])\n",
    "\n",
    "    fig, axs = plt.subplots(nrows=x[2],ncols=3,gridspec_kw=dict(hspace=0.4))\n",
    "    targets = zip(grouped.groups.keys(), axs.flatten())\n",
    "    \n",
    "    if x[2]==2:\n",
    "        targets = zip(iorder, axs.flatten())\n",
    "\n",
    "    for i, (key, ax) in enumerate(targets):\n",
    "        try:\n",
    "            group = grouped.get_group(key)\n",
    "            group = group.sort_values('PY')\n",
    "\n",
    "            table = pd.pivot_table(\n",
    "                group,\n",
    "                values='n',\n",
    "                columns=[x[1]],\n",
    "                index=['PY']\n",
    "            )\n",
    "\n",
    "            table.plot.bar(ax=ax,stacked=True,legend=False,title=key)\n",
    "            \n",
    "            #l = ax.legend()\n",
    "\n",
    "            if i == 0:\n",
    "                #ax.legend()\n",
    "                handles, labels = ax.get_legend_handles_labels()\n",
    "            \n",
    "            ticks = ax.xaxis.get_ticklocs()\n",
    "            ticklabels = [l.get_text() for l in ax.xaxis.get_ticklabels()]\n",
    "            ax.xaxis.set_ticks(ticks[::n])\n",
    "            ax.xaxis.set_ticklabels(ticklabels[::n])\n",
    "            \n",
    "            if key==\"RD\":   \n",
    "                m = 100\n",
    "            else:   \n",
    "                m = 50\n",
    "        \n",
    "            ax.set_ylim(0,m)\n",
    "            \n",
    "            \n",
    "        except:\n",
    "            print(key)\n",
    "            print(group)\n",
    "            pass\n",
    "\n",
    "    #plt.legend()\n",
    "    #ax = fig.add_axes([0.1, 0.1, 0.6, 0.75])\n",
    "    #fig.subplots_adjust(right=0.65)\n",
    "    if x[2]==3:\n",
    "        lpos = (1.1,0.75)\n",
    "        axs[-1,-1].axis('off')\n",
    "        axs[-1,-2].axis('off')\n",
    "    else:\n",
    "        lpos = (1.05,1.5)\n",
    "    ax.legend(reversed(handles), reversed(labels),bbox_to_anchor=lpos, loc=2, borderaxespad=.0,)\n",
    "    plt.savefig('plots/1_1_{}.png'.format(x[2]),bbox_inches='tight') \n",
    "    plt.show()"
   ]
  },
  {
   "cell_type": "code",
   "execution_count": 9,
   "metadata": {
    "collapsed": false,
    "deletable": true,
    "editable": true
   },
   "outputs": [],
   "source": [
    "tdocs = allreldocs.filter(\n",
    "    docownership__relevant=1,\n",
    "    docownership__query__technology__name__isnull=False,\n",
    ").exclude(\n",
    "    docownership__query__technology__name=\"Ethics & Morals\"\n",
    ").values(\n",
    "    'docownership__query__technology__name',\n",
    "    'UT',\n",
    "    'PY'\n",
    ")\n",
    "techdocs = pd.DataFrame.from_dict(list(tdocs))\n"
   ]
  },
  {
   "cell_type": "code",
   "execution_count": 10,
   "metadata": {
    "collapsed": false,
    "deletable": true,
    "editable": true
   },
   "outputs": [],
   "source": [
    "idocs = allreldocs.filter(\n",
    "    docownership__relevant=5\n",
    ").values(\n",
    "    'docownership__query__innovation__name',\n",
    "    'UT',\n",
    "    'PY'\n",
    ")\n",
    "indocs = pd.DataFrame.from_dict(list(idocs))\n"
   ]
  },
  {
   "cell_type": "code",
   "execution_count": 11,
   "metadata": {
    "collapsed": false,
    "deletable": true,
    "editable": true
   },
   "outputs": [
    {
     "name": "stdout",
     "output_type": "stream",
     "text": [
      "2558\n",
      "2558\n",
      "     PY                   UT docownership__query__innovation__name\n",
      "0  2007  WOS:000246970400010                            Demandpull\n",
      "1  2005  WOS:000228902700004                                    RD\n",
      "2  2016  WOS:000388827100001                                  None\n",
      "3  2012  WOS:000307462300012                                  None\n",
      "4  2013  WOS:000323530900093                               Scaleup\n"
     ]
    }
   ],
   "source": [
    "irdocs = alliratdocs.filter(\n",
    "\n",
    ").values(\n",
    "    'docownership__query__innovation__name',\n",
    "    'UT',\n",
    "    'PY'\n",
    ")\n",
    "irdocs = pd.DataFrame.from_dict(list(irdocs))\n",
    "\n",
    "irdocs = irdocs[irdocs['docownership__query__innovation__name'] != \"Innovationgeneral\"]\n",
    "\n",
    "print(len(irdocs))\n",
    "\n",
    "print(len(irdocs.drop_duplicates()))\n",
    "\n",
    "print(irdocs.head())\n"
   ]
  },
  {
   "cell_type": "code",
   "execution_count": 12,
   "metadata": {
    "collapsed": false,
    "deletable": true,
    "editable": true
   },
   "outputs": [
    {
     "name": "stdout",
     "output_type": "stream",
     "text": [
      "1033\n",
      "2798\n"
     ]
    },
    {
     "data": {
      "text/html": [
       "<div>\n",
       "<table border=\"1\" class=\"dataframe\">\n",
       "  <thead>\n",
       "    <tr style=\"text-align: right;\">\n",
       "      <th></th>\n",
       "      <th>PY</th>\n",
       "      <th>UT</th>\n",
       "      <th>docownership__query__technology__name</th>\n",
       "      <th>docownership__query__innovation__name</th>\n",
       "    </tr>\n",
       "  </thead>\n",
       "  <tbody>\n",
       "    <tr>\n",
       "      <th>794</th>\n",
       "      <td>1998</td>\n",
       "      <td>WOS:000073319700018</td>\n",
       "      <td>Soil Carbon Sequestration</td>\n",
       "      <td>RD</td>\n",
       "    </tr>\n",
       "    <tr>\n",
       "      <th>0</th>\n",
       "      <td>1998</td>\n",
       "      <td>WOS:000074762000009</td>\n",
       "      <td>Afforestation/reforestation</td>\n",
       "      <td>RD</td>\n",
       "    </tr>\n",
       "    <tr>\n",
       "      <th>1</th>\n",
       "      <td>1998</td>\n",
       "      <td>WOS:000074762000009</td>\n",
       "      <td>Afforestation/reforestation</td>\n",
       "      <td>Demos</td>\n",
       "    </tr>\n",
       "    <tr>\n",
       "      <th>795</th>\n",
       "      <td>1998</td>\n",
       "      <td>WOS:000075594000003</td>\n",
       "      <td>Soil Carbon Sequestration</td>\n",
       "      <td>Publicaccept</td>\n",
       "    </tr>\n",
       "    <tr>\n",
       "      <th>677</th>\n",
       "      <td>1998</td>\n",
       "      <td>WOS:000076946500004</td>\n",
       "      <td>Ocean fertilisation</td>\n",
       "      <td>RD</td>\n",
       "    </tr>\n",
       "  </tbody>\n",
       "</table>\n",
       "</div>"
      ],
      "text/plain": [
       "       PY                   UT docownership__query__technology__name  \\\n",
       "794  1998  WOS:000073319700018             Soil Carbon Sequestration   \n",
       "0    1998  WOS:000074762000009           Afforestation/reforestation   \n",
       "1    1998  WOS:000074762000009           Afforestation/reforestation   \n",
       "795  1998  WOS:000075594000003             Soil Carbon Sequestration   \n",
       "677  1998  WOS:000076946500004                   Ocean fertilisation   \n",
       "\n",
       "    docownership__query__innovation__name  \n",
       "794                                    RD  \n",
       "0                                      RD  \n",
       "1                                   Demos  \n",
       "795                          Publicaccept  \n",
       "677                                    RD  "
      ]
     },
     "execution_count": 12,
     "metadata": {},
     "output_type": "execute_result"
    }
   ],
   "source": [
    "alldocs = techdocs.merge(indocs,how=\"outer\")\n",
    "allrateddocs = techdocs.merge(irdocs, how=\"outer\")\n",
    "\n",
    "print(len(alldocs))\n",
    "\n",
    "print(len(allrateddocs))\n",
    "\n",
    "\n",
    "\n",
    "\n",
    "alldocs.sort_values('UT').head()"
   ]
  },
  {
   "cell_type": "code",
   "execution_count": 13,
   "metadata": {
    "collapsed": false,
    "deletable": true,
    "editable": true
   },
   "outputs": [
    {
     "data": {
      "text/html": [
       "<div>\n",
       "<table border=\"1\" class=\"dataframe\">\n",
       "  <thead>\n",
       "    <tr style=\"text-align: right;\">\n",
       "      <th></th>\n",
       "      <th>PY</th>\n",
       "      <th>UT</th>\n",
       "      <th>docownership__query__technology__name</th>\n",
       "      <th>docownership__query__innovation__name</th>\n",
       "    </tr>\n",
       "  </thead>\n",
       "  <tbody>\n",
       "    <tr>\n",
       "      <th>0</th>\n",
       "      <td>1998</td>\n",
       "      <td>WOS:000074762000009</td>\n",
       "      <td>Afforestation/reforestation</td>\n",
       "      <td>RD</td>\n",
       "    </tr>\n",
       "    <tr>\n",
       "      <th>1</th>\n",
       "      <td>1998</td>\n",
       "      <td>WOS:000074762000009</td>\n",
       "      <td>Afforestation/reforestation</td>\n",
       "      <td>Demos</td>\n",
       "    </tr>\n",
       "    <tr>\n",
       "      <th>2</th>\n",
       "      <td>1998</td>\n",
       "      <td>WOS:000074762000009</td>\n",
       "      <td>Afforestation/reforestation</td>\n",
       "      <td>None</td>\n",
       "    </tr>\n",
       "    <tr>\n",
       "      <th>3</th>\n",
       "      <td>2000</td>\n",
       "      <td>WOS:000085928300039</td>\n",
       "      <td>Afforestation/reforestation</td>\n",
       "      <td>None</td>\n",
       "    </tr>\n",
       "    <tr>\n",
       "      <th>4</th>\n",
       "      <td>2000</td>\n",
       "      <td>WOS:000085928300039</td>\n",
       "      <td>Afforestation/reforestation</td>\n",
       "      <td>RD</td>\n",
       "    </tr>\n",
       "  </tbody>\n",
       "</table>\n",
       "</div>"
      ],
      "text/plain": [
       "     PY                   UT docownership__query__technology__name  \\\n",
       "0  1998  WOS:000074762000009           Afforestation/reforestation   \n",
       "1  1998  WOS:000074762000009           Afforestation/reforestation   \n",
       "2  1998  WOS:000074762000009           Afforestation/reforestation   \n",
       "3  2000  WOS:000085928300039           Afforestation/reforestation   \n",
       "4  2000  WOS:000085928300039           Afforestation/reforestation   \n",
       "\n",
       "  docownership__query__innovation__name  \n",
       "0                                    RD  \n",
       "1                                 Demos  \n",
       "2                                  None  \n",
       "3                                  None  \n",
       "4                                    RD  "
      ]
     },
     "execution_count": 13,
     "metadata": {},
     "output_type": "execute_result"
    }
   ],
   "source": [
    "allrateddocs.head()"
   ]
  },
  {
   "cell_type": "code",
   "execution_count": null,
   "metadata": {
    "collapsed": false,
    "deletable": true,
    "editable": true
   },
   "outputs": [],
   "source": []
  },
  {
   "cell_type": "code",
   "execution_count": 14,
   "metadata": {
    "collapsed": false,
    "deletable": true,
    "editable": true
   },
   "outputs": [
    {
     "name": "stdout",
     "output_type": "stream",
     "text": [
      "Index(['docownership__query__technology__name', 'Demandpull', 'Demos',\n",
      "       'Nichemarkets', 'Publicaccept', 'RD', 'Scaleup'],\n",
      "      dtype='object', name='docownership__query__innovation__name')\n",
      "Index(['docownership__query__technology__name', 'Demandpull', 'Demos',\n",
      "       'Nichemarkets', 'Publicaccept', 'RD', 'Scaleup'],\n",
      "      dtype='object', name='docownership__query__innovation__name')\n"
     ]
    },
    {
     "ename": "KeyboardInterrupt",
     "evalue": "",
     "output_type": "error",
     "traceback": [
      "\u001b[0;31m---------------------------------------------------------------------------\u001b[0m",
      "\u001b[0;31mKeyboardInterrupt\u001b[0m                         Traceback (most recent call last)",
      "\u001b[0;32m<ipython-input-14-07783f97fb3d>\u001b[0m in \u001b[0;36m<module>\u001b[0;34m()\u001b[0m\n\u001b[1;32m     65\u001b[0m \u001b[0mtable\u001b[0m\u001b[0;34m[\u001b[0m\u001b[0;34m'distinct_Total'\u001b[0m\u001b[0;34m]\u001b[0m \u001b[0;34m=\u001b[0m \u001b[0mtable\u001b[0m\u001b[0;34m.\u001b[0m\u001b[0mapply\u001b[0m\u001b[0;34m(\u001b[0m\u001b[0;32mlambda\u001b[0m \u001b[0mx\u001b[0m\u001b[0;34m:\u001b[0m \u001b[0mget_ttotal\u001b[0m\u001b[0;34m(\u001b[0m\u001b[0mx\u001b[0m\u001b[0;34m)\u001b[0m\u001b[0;34m,\u001b[0m \u001b[0maxis\u001b[0m\u001b[0;34m=\u001b[0m\u001b[0;36m1\u001b[0m\u001b[0;34m)\u001b[0m\u001b[0;34m\u001b[0m\u001b[0m\n\u001b[1;32m     66\u001b[0m \u001b[0;34m\u001b[0m\u001b[0m\n\u001b[0;32m---> 67\u001b[0;31m \u001b[0mtable\u001b[0m\u001b[0;34m[\u001b[0m\u001b[0;34m'distinct_anyrating_Total'\u001b[0m\u001b[0;34m]\u001b[0m \u001b[0;34m=\u001b[0m \u001b[0mtable\u001b[0m\u001b[0;34m.\u001b[0m\u001b[0mapply\u001b[0m\u001b[0;34m(\u001b[0m\u001b[0;32mlambda\u001b[0m \u001b[0mx\u001b[0m\u001b[0;34m:\u001b[0m \u001b[0mget_irattotal\u001b[0m\u001b[0;34m(\u001b[0m\u001b[0mx\u001b[0m\u001b[0;34m)\u001b[0m\u001b[0;34m,\u001b[0m \u001b[0maxis\u001b[0m\u001b[0;34m=\u001b[0m\u001b[0;36m1\u001b[0m\u001b[0;34m)\u001b[0m\u001b[0;34m\u001b[0m\u001b[0m\n\u001b[0m\u001b[1;32m     68\u001b[0m \u001b[0;34m\u001b[0m\u001b[0m\n\u001b[1;32m     69\u001b[0m \u001b[0mtable\u001b[0m\u001b[0;34m[\u001b[0m\u001b[0;34m'distinct_alltech_Total'\u001b[0m\u001b[0;34m]\u001b[0m \u001b[0;34m=\u001b[0m \u001b[0mtable\u001b[0m\u001b[0;34m.\u001b[0m\u001b[0mapply\u001b[0m\u001b[0;34m(\u001b[0m\u001b[0;32mlambda\u001b[0m \u001b[0mx\u001b[0m\u001b[0;34m:\u001b[0m \u001b[0mget_ttotal_all\u001b[0m\u001b[0;34m(\u001b[0m\u001b[0mx\u001b[0m\u001b[0;34m)\u001b[0m\u001b[0;34m,\u001b[0m \u001b[0maxis\u001b[0m\u001b[0;34m=\u001b[0m\u001b[0;36m1\u001b[0m\u001b[0;34m)\u001b[0m\u001b[0;34m\u001b[0m\u001b[0m\n",
      "\u001b[0;32m/usr/local/lib/python3.4/dist-packages/pandas/core/frame.py\u001b[0m in \u001b[0;36mapply\u001b[0;34m(self, func, axis, broadcast, raw, reduce, args, **kwds)\u001b[0m\n\u001b[1;32m   4150\u001b[0m                     \u001b[0;32mif\u001b[0m \u001b[0mreduce\u001b[0m \u001b[0;32mis\u001b[0m \u001b[0;32mNone\u001b[0m\u001b[0;34m:\u001b[0m\u001b[0;34m\u001b[0m\u001b[0m\n\u001b[1;32m   4151\u001b[0m                         \u001b[0mreduce\u001b[0m \u001b[0;34m=\u001b[0m \u001b[0;32mTrue\u001b[0m\u001b[0;34m\u001b[0m\u001b[0m\n\u001b[0;32m-> 4152\u001b[0;31m                     \u001b[0;32mreturn\u001b[0m \u001b[0mself\u001b[0m\u001b[0;34m.\u001b[0m\u001b[0m_apply_standard\u001b[0m\u001b[0;34m(\u001b[0m\u001b[0mf\u001b[0m\u001b[0;34m,\u001b[0m \u001b[0maxis\u001b[0m\u001b[0;34m,\u001b[0m \u001b[0mreduce\u001b[0m\u001b[0;34m=\u001b[0m\u001b[0mreduce\u001b[0m\u001b[0;34m)\u001b[0m\u001b[0;34m\u001b[0m\u001b[0m\n\u001b[0m\u001b[1;32m   4153\u001b[0m             \u001b[0;32melse\u001b[0m\u001b[0;34m:\u001b[0m\u001b[0;34m\u001b[0m\u001b[0m\n\u001b[1;32m   4154\u001b[0m                 \u001b[0;32mreturn\u001b[0m \u001b[0mself\u001b[0m\u001b[0;34m.\u001b[0m\u001b[0m_apply_broadcast\u001b[0m\u001b[0;34m(\u001b[0m\u001b[0mf\u001b[0m\u001b[0;34m,\u001b[0m \u001b[0maxis\u001b[0m\u001b[0;34m)\u001b[0m\u001b[0;34m\u001b[0m\u001b[0m\n",
      "\u001b[0;32m/usr/local/lib/python3.4/dist-packages/pandas/core/frame.py\u001b[0m in \u001b[0;36m_apply_standard\u001b[0;34m(self, func, axis, ignore_failures, reduce)\u001b[0m\n\u001b[1;32m   4206\u001b[0m                     \u001b[0mlabels\u001b[0m \u001b[0;34m=\u001b[0m \u001b[0mself\u001b[0m\u001b[0;34m.\u001b[0m\u001b[0m_get_agg_axis\u001b[0m\u001b[0;34m(\u001b[0m\u001b[0maxis\u001b[0m\u001b[0;34m)\u001b[0m\u001b[0;34m\u001b[0m\u001b[0m\n\u001b[1;32m   4207\u001b[0m                     result = lib.reduce(values, func, axis=axis, dummy=dummy,\n\u001b[0;32m-> 4208\u001b[0;31m                                         labels=labels)\n\u001b[0m\u001b[1;32m   4209\u001b[0m                     \u001b[0;32mreturn\u001b[0m \u001b[0mSeries\u001b[0m\u001b[0;34m(\u001b[0m\u001b[0mresult\u001b[0m\u001b[0;34m,\u001b[0m \u001b[0mindex\u001b[0m\u001b[0;34m=\u001b[0m\u001b[0mlabels\u001b[0m\u001b[0;34m)\u001b[0m\u001b[0;34m\u001b[0m\u001b[0m\n\u001b[1;32m   4210\u001b[0m                 \u001b[0;32mexcept\u001b[0m \u001b[0mException\u001b[0m\u001b[0;34m:\u001b[0m\u001b[0;34m\u001b[0m\u001b[0m\n",
      "\u001b[0;32mpandas/src/reduce.pyx\u001b[0m in \u001b[0;36mpandas.lib.reduce (pandas/lib.c:45030)\u001b[0;34m()\u001b[0m\n",
      "\u001b[0;32mpandas/src/reduce.pyx\u001b[0m in \u001b[0;36mpandas.lib.Reducer.get_result (pandas/lib.c:34673)\u001b[0;34m()\u001b[0m\n",
      "\u001b[0;32m<ipython-input-14-07783f97fb3d>\u001b[0m in \u001b[0;36m<lambda>\u001b[0;34m(x)\u001b[0m\n\u001b[1;32m     65\u001b[0m \u001b[0mtable\u001b[0m\u001b[0;34m[\u001b[0m\u001b[0;34m'distinct_Total'\u001b[0m\u001b[0;34m]\u001b[0m \u001b[0;34m=\u001b[0m \u001b[0mtable\u001b[0m\u001b[0;34m.\u001b[0m\u001b[0mapply\u001b[0m\u001b[0;34m(\u001b[0m\u001b[0;32mlambda\u001b[0m \u001b[0mx\u001b[0m\u001b[0;34m:\u001b[0m \u001b[0mget_ttotal\u001b[0m\u001b[0;34m(\u001b[0m\u001b[0mx\u001b[0m\u001b[0;34m)\u001b[0m\u001b[0;34m,\u001b[0m \u001b[0maxis\u001b[0m\u001b[0;34m=\u001b[0m\u001b[0;36m1\u001b[0m\u001b[0;34m)\u001b[0m\u001b[0;34m\u001b[0m\u001b[0m\n\u001b[1;32m     66\u001b[0m \u001b[0;34m\u001b[0m\u001b[0m\n\u001b[0;32m---> 67\u001b[0;31m \u001b[0mtable\u001b[0m\u001b[0;34m[\u001b[0m\u001b[0;34m'distinct_anyrating_Total'\u001b[0m\u001b[0;34m]\u001b[0m \u001b[0;34m=\u001b[0m \u001b[0mtable\u001b[0m\u001b[0;34m.\u001b[0m\u001b[0mapply\u001b[0m\u001b[0;34m(\u001b[0m\u001b[0;32mlambda\u001b[0m \u001b[0mx\u001b[0m\u001b[0;34m:\u001b[0m \u001b[0mget_irattotal\u001b[0m\u001b[0;34m(\u001b[0m\u001b[0mx\u001b[0m\u001b[0;34m)\u001b[0m\u001b[0;34m,\u001b[0m \u001b[0maxis\u001b[0m\u001b[0;34m=\u001b[0m\u001b[0;36m1\u001b[0m\u001b[0;34m)\u001b[0m\u001b[0;34m\u001b[0m\u001b[0m\n\u001b[0m\u001b[1;32m     68\u001b[0m \u001b[0;34m\u001b[0m\u001b[0m\n\u001b[1;32m     69\u001b[0m \u001b[0mtable\u001b[0m\u001b[0;34m[\u001b[0m\u001b[0;34m'distinct_alltech_Total'\u001b[0m\u001b[0;34m]\u001b[0m \u001b[0;34m=\u001b[0m \u001b[0mtable\u001b[0m\u001b[0;34m.\u001b[0m\u001b[0mapply\u001b[0m\u001b[0;34m(\u001b[0m\u001b[0;32mlambda\u001b[0m \u001b[0mx\u001b[0m\u001b[0;34m:\u001b[0m \u001b[0mget_ttotal_all\u001b[0m\u001b[0;34m(\u001b[0m\u001b[0mx\u001b[0m\u001b[0;34m)\u001b[0m\u001b[0;34m,\u001b[0m \u001b[0maxis\u001b[0m\u001b[0;34m=\u001b[0m\u001b[0;36m1\u001b[0m\u001b[0;34m)\u001b[0m\u001b[0;34m\u001b[0m\u001b[0m\n",
      "\u001b[0;32m<ipython-input-14-07783f97fb3d>\u001b[0m in \u001b[0;36mget_irattotal\u001b[0;34m(i)\u001b[0m\n\u001b[1;32m     50\u001b[0m \u001b[0;32mdef\u001b[0m \u001b[0mget_irattotal\u001b[0m\u001b[0;34m(\u001b[0m\u001b[0mi\u001b[0m\u001b[0;34m)\u001b[0m\u001b[0;34m:\u001b[0m\u001b[0;34m\u001b[0m\u001b[0m\n\u001b[1;32m     51\u001b[0m     x = alliratdocs.filter(\n\u001b[0;32m---> 52\u001b[0;31m         \u001b[0mdocownership__query__technology__name\u001b[0m\u001b[0;34m=\u001b[0m\u001b[0mi\u001b[0m\u001b[0;34m[\u001b[0m\u001b[0;34m'Technology'\u001b[0m\u001b[0;34m]\u001b[0m\u001b[0;34m\u001b[0m\u001b[0m\n\u001b[0m\u001b[1;32m     53\u001b[0m     ).distinct().count()\n\u001b[1;32m     54\u001b[0m     \u001b[0;32mif\u001b[0m \u001b[0mx\u001b[0m \u001b[0;34m==\u001b[0m \u001b[0;36m0\u001b[0m\u001b[0;34m:\u001b[0m\u001b[0;34m\u001b[0m\u001b[0m\n",
      "\u001b[0;32m/usr/local/lib/python3.4/dist-packages/django/db/models/query.py\u001b[0m in \u001b[0;36mcount\u001b[0;34m(self)\u001b[0m\n\u001b[1;32m    367\u001b[0m             \u001b[0;32mreturn\u001b[0m \u001b[0mlen\u001b[0m\u001b[0;34m(\u001b[0m\u001b[0mself\u001b[0m\u001b[0;34m.\u001b[0m\u001b[0m_result_cache\u001b[0m\u001b[0;34m)\u001b[0m\u001b[0;34m\u001b[0m\u001b[0m\n\u001b[1;32m    368\u001b[0m \u001b[0;34m\u001b[0m\u001b[0m\n\u001b[0;32m--> 369\u001b[0;31m         \u001b[0;32mreturn\u001b[0m \u001b[0mself\u001b[0m\u001b[0;34m.\u001b[0m\u001b[0mquery\u001b[0m\u001b[0;34m.\u001b[0m\u001b[0mget_count\u001b[0m\u001b[0;34m(\u001b[0m\u001b[0musing\u001b[0m\u001b[0;34m=\u001b[0m\u001b[0mself\u001b[0m\u001b[0;34m.\u001b[0m\u001b[0mdb\u001b[0m\u001b[0;34m)\u001b[0m\u001b[0;34m\u001b[0m\u001b[0m\n\u001b[0m\u001b[1;32m    370\u001b[0m \u001b[0;34m\u001b[0m\u001b[0m\n\u001b[1;32m    371\u001b[0m     \u001b[0;32mdef\u001b[0m \u001b[0mget\u001b[0m\u001b[0;34m(\u001b[0m\u001b[0mself\u001b[0m\u001b[0;34m,\u001b[0m \u001b[0;34m*\u001b[0m\u001b[0margs\u001b[0m\u001b[0;34m,\u001b[0m \u001b[0;34m**\u001b[0m\u001b[0mkwargs\u001b[0m\u001b[0;34m)\u001b[0m\u001b[0;34m:\u001b[0m\u001b[0;34m\u001b[0m\u001b[0m\n",
      "\u001b[0;32m/usr/local/lib/python3.4/dist-packages/django/db/models/sql/query.py\u001b[0m in \u001b[0;36mget_count\u001b[0;34m(self, using)\u001b[0m\n\u001b[1;32m    474\u001b[0m         \u001b[0mobj\u001b[0m \u001b[0;34m=\u001b[0m \u001b[0mself\u001b[0m\u001b[0;34m.\u001b[0m\u001b[0mclone\u001b[0m\u001b[0;34m(\u001b[0m\u001b[0;34m)\u001b[0m\u001b[0;34m\u001b[0m\u001b[0m\n\u001b[1;32m    475\u001b[0m         \u001b[0mobj\u001b[0m\u001b[0;34m.\u001b[0m\u001b[0madd_annotation\u001b[0m\u001b[0;34m(\u001b[0m\u001b[0mCount\u001b[0m\u001b[0;34m(\u001b[0m\u001b[0;34m'*'\u001b[0m\u001b[0;34m)\u001b[0m\u001b[0;34m,\u001b[0m \u001b[0malias\u001b[0m\u001b[0;34m=\u001b[0m\u001b[0;34m'__count'\u001b[0m\u001b[0;34m,\u001b[0m \u001b[0mis_summary\u001b[0m\u001b[0;34m=\u001b[0m\u001b[0;32mTrue\u001b[0m\u001b[0;34m)\u001b[0m\u001b[0;34m\u001b[0m\u001b[0m\n\u001b[0;32m--> 476\u001b[0;31m         \u001b[0mnumber\u001b[0m \u001b[0;34m=\u001b[0m \u001b[0mobj\u001b[0m\u001b[0;34m.\u001b[0m\u001b[0mget_aggregation\u001b[0m\u001b[0;34m(\u001b[0m\u001b[0musing\u001b[0m\u001b[0;34m,\u001b[0m \u001b[0;34m[\u001b[0m\u001b[0;34m'__count'\u001b[0m\u001b[0;34m]\u001b[0m\u001b[0;34m)\u001b[0m\u001b[0;34m[\u001b[0m\u001b[0;34m'__count'\u001b[0m\u001b[0;34m]\u001b[0m\u001b[0;34m\u001b[0m\u001b[0m\n\u001b[0m\u001b[1;32m    477\u001b[0m         \u001b[0;32mif\u001b[0m \u001b[0mnumber\u001b[0m \u001b[0;32mis\u001b[0m \u001b[0;32mNone\u001b[0m\u001b[0;34m:\u001b[0m\u001b[0;34m\u001b[0m\u001b[0m\n\u001b[1;32m    478\u001b[0m             \u001b[0mnumber\u001b[0m \u001b[0;34m=\u001b[0m \u001b[0;36m0\u001b[0m\u001b[0;34m\u001b[0m\u001b[0m\n",
      "\u001b[0;32m/usr/local/lib/python3.4/dist-packages/django/db/models/sql/query.py\u001b[0m in \u001b[0;36mget_aggregation\u001b[0;34m(self, using, added_aggregate_names)\u001b[0m\n\u001b[1;32m    455\u001b[0m         \u001b[0mouter_query\u001b[0m\u001b[0;34m.\u001b[0m\u001b[0mselect_related\u001b[0m \u001b[0;34m=\u001b[0m \u001b[0;32mFalse\u001b[0m\u001b[0;34m\u001b[0m\u001b[0m\n\u001b[1;32m    456\u001b[0m         \u001b[0mcompiler\u001b[0m \u001b[0;34m=\u001b[0m \u001b[0mouter_query\u001b[0m\u001b[0;34m.\u001b[0m\u001b[0mget_compiler\u001b[0m\u001b[0;34m(\u001b[0m\u001b[0musing\u001b[0m\u001b[0;34m)\u001b[0m\u001b[0;34m\u001b[0m\u001b[0m\n\u001b[0;32m--> 457\u001b[0;31m         \u001b[0mresult\u001b[0m \u001b[0;34m=\u001b[0m \u001b[0mcompiler\u001b[0m\u001b[0;34m.\u001b[0m\u001b[0mexecute_sql\u001b[0m\u001b[0;34m(\u001b[0m\u001b[0mSINGLE\u001b[0m\u001b[0;34m)\u001b[0m\u001b[0;34m\u001b[0m\u001b[0m\n\u001b[0m\u001b[1;32m    458\u001b[0m         \u001b[0;32mif\u001b[0m \u001b[0mresult\u001b[0m \u001b[0;32mis\u001b[0m \u001b[0;32mNone\u001b[0m\u001b[0;34m:\u001b[0m\u001b[0;34m\u001b[0m\u001b[0m\n\u001b[1;32m    459\u001b[0m             \u001b[0mresult\u001b[0m \u001b[0;34m=\u001b[0m \u001b[0;34m[\u001b[0m\u001b[0;32mNone\u001b[0m \u001b[0;32mfor\u001b[0m \u001b[0mq\u001b[0m \u001b[0;32min\u001b[0m \u001b[0mouter_query\u001b[0m\u001b[0;34m.\u001b[0m\u001b[0mannotation_select\u001b[0m\u001b[0;34m.\u001b[0m\u001b[0mitems\u001b[0m\u001b[0;34m(\u001b[0m\u001b[0;34m)\u001b[0m\u001b[0;34m]\u001b[0m\u001b[0;34m\u001b[0m\u001b[0m\n",
      "\u001b[0;32m/usr/local/lib/python3.4/dist-packages/django/db/models/sql/compiler.py\u001b[0m in \u001b[0;36mexecute_sql\u001b[0;34m(self, result_type)\u001b[0m\n\u001b[1;32m    833\u001b[0m         \u001b[0mcursor\u001b[0m \u001b[0;34m=\u001b[0m \u001b[0mself\u001b[0m\u001b[0;34m.\u001b[0m\u001b[0mconnection\u001b[0m\u001b[0;34m.\u001b[0m\u001b[0mcursor\u001b[0m\u001b[0;34m(\u001b[0m\u001b[0;34m)\u001b[0m\u001b[0;34m\u001b[0m\u001b[0m\n\u001b[1;32m    834\u001b[0m         \u001b[0;32mtry\u001b[0m\u001b[0;34m:\u001b[0m\u001b[0;34m\u001b[0m\u001b[0m\n\u001b[0;32m--> 835\u001b[0;31m             \u001b[0mcursor\u001b[0m\u001b[0;34m.\u001b[0m\u001b[0mexecute\u001b[0m\u001b[0;34m(\u001b[0m\u001b[0msql\u001b[0m\u001b[0;34m,\u001b[0m \u001b[0mparams\u001b[0m\u001b[0;34m)\u001b[0m\u001b[0;34m\u001b[0m\u001b[0m\n\u001b[0m\u001b[1;32m    836\u001b[0m         \u001b[0;32mexcept\u001b[0m \u001b[0mException\u001b[0m\u001b[0;34m:\u001b[0m\u001b[0;34m\u001b[0m\u001b[0m\n\u001b[1;32m    837\u001b[0m             \u001b[0mcursor\u001b[0m\u001b[0;34m.\u001b[0m\u001b[0mclose\u001b[0m\u001b[0;34m(\u001b[0m\u001b[0;34m)\u001b[0m\u001b[0;34m\u001b[0m\u001b[0m\n",
      "\u001b[0;32m/usr/local/lib/python3.4/dist-packages/django/db/backends/utils.py\u001b[0m in \u001b[0;36mexecute\u001b[0;34m(self, sql, params)\u001b[0m\n\u001b[1;32m     77\u001b[0m         \u001b[0mstart\u001b[0m \u001b[0;34m=\u001b[0m \u001b[0mtime\u001b[0m\u001b[0;34m(\u001b[0m\u001b[0;34m)\u001b[0m\u001b[0;34m\u001b[0m\u001b[0m\n\u001b[1;32m     78\u001b[0m         \u001b[0;32mtry\u001b[0m\u001b[0;34m:\u001b[0m\u001b[0;34m\u001b[0m\u001b[0m\n\u001b[0;32m---> 79\u001b[0;31m             \u001b[0;32mreturn\u001b[0m \u001b[0msuper\u001b[0m\u001b[0;34m(\u001b[0m\u001b[0mCursorDebugWrapper\u001b[0m\u001b[0;34m,\u001b[0m \u001b[0mself\u001b[0m\u001b[0;34m)\u001b[0m\u001b[0;34m.\u001b[0m\u001b[0mexecute\u001b[0m\u001b[0;34m(\u001b[0m\u001b[0msql\u001b[0m\u001b[0;34m,\u001b[0m \u001b[0mparams\u001b[0m\u001b[0;34m)\u001b[0m\u001b[0;34m\u001b[0m\u001b[0m\n\u001b[0m\u001b[1;32m     80\u001b[0m         \u001b[0;32mfinally\u001b[0m\u001b[0;34m:\u001b[0m\u001b[0;34m\u001b[0m\u001b[0m\n\u001b[1;32m     81\u001b[0m             \u001b[0mstop\u001b[0m \u001b[0;34m=\u001b[0m \u001b[0mtime\u001b[0m\u001b[0;34m(\u001b[0m\u001b[0;34m)\u001b[0m\u001b[0;34m\u001b[0m\u001b[0m\n",
      "\u001b[0;32m/usr/local/lib/python3.4/dist-packages/django/db/backends/utils.py\u001b[0m in \u001b[0;36mexecute\u001b[0;34m(self, sql, params)\u001b[0m\n\u001b[1;32m     62\u001b[0m                 \u001b[0;32mreturn\u001b[0m \u001b[0mself\u001b[0m\u001b[0;34m.\u001b[0m\u001b[0mcursor\u001b[0m\u001b[0;34m.\u001b[0m\u001b[0mexecute\u001b[0m\u001b[0;34m(\u001b[0m\u001b[0msql\u001b[0m\u001b[0;34m)\u001b[0m\u001b[0;34m\u001b[0m\u001b[0m\n\u001b[1;32m     63\u001b[0m             \u001b[0;32melse\u001b[0m\u001b[0;34m:\u001b[0m\u001b[0;34m\u001b[0m\u001b[0m\n\u001b[0;32m---> 64\u001b[0;31m                 \u001b[0;32mreturn\u001b[0m \u001b[0mself\u001b[0m\u001b[0;34m.\u001b[0m\u001b[0mcursor\u001b[0m\u001b[0;34m.\u001b[0m\u001b[0mexecute\u001b[0m\u001b[0;34m(\u001b[0m\u001b[0msql\u001b[0m\u001b[0;34m,\u001b[0m \u001b[0mparams\u001b[0m\u001b[0;34m)\u001b[0m\u001b[0;34m\u001b[0m\u001b[0m\n\u001b[0m\u001b[1;32m     65\u001b[0m \u001b[0;34m\u001b[0m\u001b[0m\n\u001b[1;32m     66\u001b[0m     \u001b[0;32mdef\u001b[0m \u001b[0mexecutemany\u001b[0m\u001b[0;34m(\u001b[0m\u001b[0mself\u001b[0m\u001b[0;34m,\u001b[0m \u001b[0msql\u001b[0m\u001b[0;34m,\u001b[0m \u001b[0mparam_list\u001b[0m\u001b[0;34m)\u001b[0m\u001b[0;34m:\u001b[0m\u001b[0;34m\u001b[0m\u001b[0m\n",
      "\u001b[0;32m<string>\u001b[0m in \u001b[0;36m__new__\u001b[0;34m(_cls, name, type_code, display_size, internal_size, precision, scale, null_ok)\u001b[0m\n",
      "\u001b[0;31mKeyboardInterrupt\u001b[0m: "
     ]
    }
   ],
   "source": [
    "def fix_table(df):\n",
    "    table = df.groupby(['docownership__query__technology__name','docownership__query__innovation__name'])\n",
    "    table = table.count()\n",
    "    table = table.reset_index()\n",
    "    table = table.rename(columns={'UT':'n'})\n",
    "    table = table.drop('PY',1)\n",
    "\n",
    "    table = pd.pivot_table(\n",
    "            table,\n",
    "            values='n',\n",
    "            index=['docownership__query__technology__name'],\n",
    "            columns=['docownership__query__innovation__name'],\n",
    "            fill_value=0\n",
    "        ).reset_index()\n",
    "\n",
    "    #table.index.rename('index',True)\n",
    "    print(table.columns)\n",
    "    \n",
    "    table.columns = ['Technology','Demandpull','Demos','Nichemarkets','Publicaccept','RD','Scaleup']\n",
    "\n",
    "    table = table[['Technology','RD','Demos','Scaleup','Demandpull','Nichemarkets','Publicaccept']]\n",
    "\n",
    "    table['Total'] = table.sum(axis=1,numeric_only=True)\n",
    "    return(table)\n",
    "    \n",
    "table = fix_table(alldocs)\n",
    "\n",
    "basic_table = table\n",
    "\n",
    "allratedtable = fix_table(allrateddocs)\n",
    "\n",
    "def get_ttotal(i):\n",
    "    x = allreldocs.filter(\n",
    "        docownership__query__technology__name=i['Technology'],\n",
    "        docownership__relevant=1\n",
    "    ).distinct().count()\n",
    "    if x == 0:\n",
    "        x = np.NaN\n",
    "    return(x)\n",
    "\n",
    "def get_itotal(i):\n",
    "    x = allreldocs.filter(\n",
    "        docownership__query__innovation__name=i.name,\n",
    "        docownership__relevant=5\n",
    "    ).distinct().count()\n",
    "    if x == 0:\n",
    "        x = np.NaN\n",
    "    return(x)\n",
    "\n",
    "def get_irattotal(i):\n",
    "    x = alliratdocs.filter(\n",
    "        docownership__query__technology__name=i['Technology']\n",
    "    ).distinct().count()\n",
    "    if x == 0:\n",
    "        x = np.NaN\n",
    "    return(x)\n",
    "\n",
    "def get_ttotal_all(i):\n",
    "    x = alltdocs.filter(\n",
    "        docownership__query__technology__name=i['Technology'],\n",
    "        docownership__relevant=1\n",
    "    ).distinct().count()\n",
    "    return(x)\n",
    "\n",
    "table['distinct_Total'] = table.apply(lambda x: get_ttotal(x), axis=1)\n",
    "\n",
    "table['distinct_anyrating_Total'] = table.apply(lambda x: get_irattotal(x), axis=1)\n",
    "\n",
    "table['distinct_alltech_Total'] = table.apply(lambda x: get_ttotal_all(x), axis=1)\n",
    "\n",
    "table.set_index('Technology',inplace=True)\n",
    "\n",
    "table.loc['Total'] = table.sum()\n",
    "\n",
    "table.loc['distinct_Total'] = table.apply(lambda x: get_itotal(x))\n",
    "\n",
    "\n",
    "table.head(15)\n",
    "\n",
    "#table.sum(axis=0,numeric_only=True)"
   ]
  },
  {
   "cell_type": "code",
   "execution_count": null,
   "metadata": {
    "collapsed": false,
    "deletable": true,
    "editable": true
   },
   "outputs": [],
   "source": [
    "ttable = allratedtable\n",
    "\n",
    "ttable.head()"
   ]
  },
  {
   "cell_type": "code",
   "execution_count": null,
   "metadata": {
    "collapsed": false,
    "deletable": true,
    "editable": true
   },
   "outputs": [],
   "source": [
    "rtable = table\n",
    "\n",
    "rtable = rtable.drop(['Total','distinct_Total','distinct_anyrating_Total'],1)\n",
    "\n",
    "for col in rtable.columns:\n",
    "\n",
    "    rtable[col] = rtable[col]/rtable['distinct_alltech_Total']*100\n",
    "    \n",
    "\n",
    "\n",
    "rtable.head()"
   ]
  },
  {
   "cell_type": "code",
   "execution_count": null,
   "metadata": {
    "collapsed": false,
    "deletable": true,
    "editable": true
   },
   "outputs": [],
   "source": [
    "basic_table = fix_table(alldocs)\n",
    "basic_table = basic_table.set_index('Technology')\n",
    "\n",
    "basic_table.head()"
   ]
  },
  {
   "cell_type": "code",
   "execution_count": null,
   "metadata": {
    "collapsed": false,
    "deletable": true,
    "editable": true
   },
   "outputs": [],
   "source": [
    "allratedtable = fix_table(allrateddocs).set_index('Technology')\n",
    "allratedtable.head()"
   ]
  },
  {
   "cell_type": "code",
   "execution_count": null,
   "metadata": {
    "collapsed": false,
    "deletable": true,
    "editable": true
   },
   "outputs": [],
   "source": [
    "rtable2 = basic_table/allratedtable*100\n",
    "rtable2 = rtable2.fillna(0)\n",
    "rtable2"
   ]
  },
  {
   "cell_type": "code",
   "execution_count": null,
   "metadata": {
    "collapsed": true,
    "deletable": true,
    "editable": true
   },
   "outputs": [],
   "source": []
  },
  {
   "cell_type": "code",
   "execution_count": null,
   "metadata": {
    "collapsed": true,
    "deletable": true,
    "editable": true
   },
   "outputs": [],
   "source": []
  },
  {
   "cell_type": "code",
   "execution_count": null,
   "metadata": {
    "collapsed": false,
    "deletable": true,
    "editable": true
   },
   "outputs": [],
   "source": [
    "itable = table\n",
    "\n",
    "itable = itable.drop(['Total','distinct_Total','distinct_alltech_Total','distinct_anyrating_Total'],1)\n",
    "\n",
    "for col in itable.columns:\n",
    "\n",
    "    itable[col] = itable[col]/itable['RD']*100\n",
    "    \n",
    "\n",
    "\n",
    "itable.head()\n"
   ]
  },
  {
   "cell_type": "code",
   "execution_count": null,
   "metadata": {
    "collapsed": false,
    "deletable": true,
    "editable": true
   },
   "outputs": [],
   "source": []
  },
  {
   "cell_type": "code",
   "execution_count": null,
   "metadata": {
    "collapsed": true,
    "deletable": true,
    "editable": true
   },
   "outputs": [],
   "source": []
  },
  {
   "cell_type": "code",
   "execution_count": null,
   "metadata": {
    "collapsed": true,
    "deletable": true,
    "editable": true
   },
   "outputs": [],
   "source": [
    "writer = pd.ExcelWriter('tables/tech_innov_totals.xlsx')\n",
    "table.to_excel(writer,'Relevant Documents')\n",
    "rtable.to_excel(writer,'% Relevant of Technology')\n",
    "rtable2.to_excel(writer,'% Relevant of Technology rated')\n",
    "itable.to_excel(writer, '% Stage')\n",
    "ttable.to_excel(writer,'Any Rating Totals')\n",
    "writer.save()"
   ]
  },
  {
   "cell_type": "code",
   "execution_count": null,
   "metadata": {
    "collapsed": true,
    "deletable": true,
    "editable": true
   },
   "outputs": [],
   "source": []
  },
  {
   "cell_type": "code",
   "execution_count": null,
   "metadata": {
    "collapsed": true,
    "deletable": true,
    "editable": true
   },
   "outputs": [],
   "source": []
  },
  {
   "cell_type": "code",
   "execution_count": null,
   "metadata": {
    "collapsed": true,
    "deletable": true,
    "editable": true
   },
   "outputs": [],
   "source": []
  },
  {
   "cell_type": "code",
   "execution_count": null,
   "metadata": {
    "collapsed": true,
    "deletable": true,
    "editable": true
   },
   "outputs": [],
   "source": []
  },
  {
   "cell_type": "code",
   "execution_count": null,
   "metadata": {
    "collapsed": false,
    "deletable": true,
    "editable": true
   },
   "outputs": [],
   "source": [
    "byyear = alldocs.groupby(['PY','docownership__query__technology__name','docownership__query__innovation__name'])\n",
    "byyear = byyear.count()\n",
    "byyear = byyear.reset_index()\n",
    "byyear = byyear.fillna(0)\n",
    "byyear = byyear.rename(columns={'UT':'n'})\n",
    "\n",
    "\n",
    "byyear.head()"
   ]
  },
  {
   "cell_type": "code",
   "execution_count": null,
   "metadata": {
    "collapsed": false,
    "deletable": true,
    "editable": true
   },
   "outputs": [],
   "source": [
    "### Prepare Byyears, extend indexes\n",
    "reindexes = [\n",
    "    ('PY','docownership__query__technology__name','docownership__query__innovation__name'),\n",
    "    ('PY','docownership__query__innovation__name','docownership__query__technology__name'),\n",
    "    ('docownership__query__innovation__name','docownership__query__technology__name','PY')\n",
    "]\n",
    "\n",
    "pt = byyear\n",
    "\n",
    "for x in reindexes:\n",
    "\n",
    "    pt = pd.pivot_table(\n",
    "        pt,\n",
    "        values='n',\n",
    "        columns=[x[2]],\n",
    "        index=[x[0],x[1]],\n",
    "        fill_value=0\n",
    "    ).reset_index()\n",
    "\n",
    "\n",
    "    pt = pd.melt(\n",
    "        pt,\n",
    "        id_vars=[x[0],x[1]],\n",
    "        value_name='n'\n",
    "    ).reset_index()\n",
    "\n",
    "pt['docownership__query__innovation__name'] = pd.Categorical(pt['docownership__query__innovation__name'],\n",
    "                                                            [\n",
    "                                                                \"RD\",\n",
    "                                                                \"Scaleup\",\n",
    "                                                                \"Demandpull\",\n",
    "                                                                \"Publicaccept\",\n",
    "                                                                \"Demos\",\n",
    "                                                                \"Nichemarkets\"\n",
    "                                                            ])\n",
    "\n",
    "pt = pt.sort_values(['PY','docownership__query__innovation__name'])"
   ]
  },
  {
   "cell_type": "code",
   "execution_count": null,
   "metadata": {
    "collapsed": false,
    "deletable": true,
    "editable": true
   },
   "outputs": [],
   "source": [
    "groupings = [\n",
    "    ('docownership__query__innovation__name','docownership__query__technology__name',2),\n",
    "    ('docownership__query__technology__name','docownership__query__innovation__name',4),\n",
    "]\n",
    "\n",
    "\n",
    "for x in groupings:\n",
    "    \n",
    "    plt.rcParams[\"figure.figsize\"] = [12,4*x[2]]\n",
    "    \n",
    "    grouped = pt.groupby(x[0])\n",
    "\n",
    "    fig, axs = plt.subplots(nrows=x[2],ncols=3,gridspec_kw=dict(hspace=0.4))\n",
    "    targets = zip(grouped.groups.keys(), axs.flatten())\n",
    "    \n",
    "    if x[2]==2:\n",
    "        targets = zip(iorder, axs.flatten())\n",
    "        \n",
    "\n",
    "    for i, (key, ax) in enumerate(targets):\n",
    "        try:\n",
    "            group = grouped.get_group(key)\n",
    "            group = group.sort_values('PY')\n",
    "\n",
    "            table = pd.pivot_table(\n",
    "                group,\n",
    "                values='n',\n",
    "                columns=[x[1]],\n",
    "                index=['PY']\n",
    "            )\n",
    "\n",
    "            table.plot.bar(ax=ax,stacked=True,legend=False,title=key)\n",
    "            \n",
    "            #l = ax.legend()\n",
    "\n",
    "            if i == 0:\n",
    "                #ax.legend()\n",
    "                handles, labels = ax.get_legend_handles_labels()\n",
    "            \n",
    "            ticks = ax.xaxis.get_ticklocs()\n",
    "            ticklabels = [l.get_text() for l in ax.xaxis.get_ticklabels()]\n",
    "            ax.xaxis.set_ticks(ticks[::n])\n",
    "            ax.xaxis.set_ticklabels(ticklabels[::n])\n",
    "            \n",
    "            if key==\"RD\":   \n",
    "                m = 100\n",
    "            else:   \n",
    "                m = 50\n",
    "        \n",
    "            ax.set_ylim(0,m)\n",
    "            \n",
    "            \n",
    "        except:\n",
    "            print(key)\n",
    "            print(group)\n",
    "            pass\n",
    "\n",
    "    #plt.legend()\n",
    "    #ax = fig.add_axes([0.1, 0.1, 0.6, 0.75])\n",
    "    #fig.subplots_adjust(right=0.65)\n",
    "    if x[2]==4:\n",
    "        lpos = (1.1,0.75)\n",
    "        axs[-1,-1].axis('off')\n",
    "        axs[-1,-2].axis('off')\n",
    "    else:\n",
    "        lpos = (1.05,1.5)\n",
    "    ax.legend(reversed(handles), reversed(labels),bbox_to_anchor=lpos, loc=2, borderaxespad=.0,)\n",
    "    if x[2]==4:\n",
    "        f = 3\n",
    "    else:\n",
    "        f = 2\n",
    "    plt.savefig('plots/1_1_{}_2.png'.format(f),bbox_inches='tight') \n",
    "    plt.show()"
   ]
  },
  {
   "cell_type": "code",
   "execution_count": null,
   "metadata": {
    "collapsed": false,
    "deletable": true,
    "editable": true
   },
   "outputs": [],
   "source": [
    "alliratdocs"
   ]
  },
  {
   "cell_type": "code",
   "execution_count": null,
   "metadata": {
    "collapsed": true,
    "deletable": true,
    "editable": true
   },
   "outputs": [],
   "source": []
  }
 ],
 "metadata": {
  "kernelspec": {
   "display_name": "Python 3",
   "language": "python",
   "name": "python3"
  },
  "language_info": {
   "codemirror_mode": {
    "name": "ipython",
    "version": 3
   },
   "file_extension": ".py",
   "mimetype": "text/x-python",
   "name": "python",
   "nbconvert_exporter": "python",
   "pygments_lexer": "ipython3",
   "version": "3.4.3"
  }
 },
 "nbformat": 4,
 "nbformat_minor": 2
}
