{
 "cells": [
  {
   "cell_type": "code",
   "execution_count": 8,
   "metadata": {
    "collapsed": false,
    "deletable": true,
    "editable": true
   },
   "outputs": [],
   "source": [
    "import django, sys, os\n",
    "sys.path.append('/home/galm/software/django/tmv/BasicBrowser')\n",
    "\n",
    "os.environ.setdefault(\"DJANGO_SETTINGS_MODULE\", \"BasicBrowser.settings\")\n",
    "django.setup()\n",
    "\n",
    "from scoping.models import *"
   ]
  },
  {
   "cell_type": "code",
   "execution_count": 9,
   "metadata": {
    "collapsed": false,
    "deletable": true,
    "editable": true
   },
   "outputs": [
    {
     "name": "stdout",
     "output_type": "stream",
     "text": [
      "Synonyms\n",
      "Enhanced Weathering\n",
      "Blue Carbon\n",
      "BECCS\n",
      "Soil Carbon Sequestration\n",
      "Ocean Alkalinisation\n",
      "Bioenergy\n",
      "Afforestation/reforestation\n",
      "Ethics & Morals\n",
      "Biochar\n",
      "Direct Air Capture\n",
      "Ocean fertilisation\n"
     ]
    }
   ],
   "source": [
    "p = Project.objects.get(title=\"NETs\")\n",
    "ts = Technology.objects.filter(project=p)\n",
    "for t in ts:\n",
    "    print(t)\n",
    "    qset = Query.objects.filter(technology=t)\n",
    "    for q in qset:\n",
    "        q.project=p\n",
    "        q.save()"
   ]
  },
  {
   "cell_type": "code",
   "execution_count": 10,
   "metadata": {
    "collapsed": false,
    "deletable": true,
    "editable": true
   },
   "outputs": [
    {
     "name": "stdout",
     "output_type": "stream",
     "text": [
      "7424\n",
      "1777\n",
      "1939\n"
     ]
    }
   ],
   "source": [
    "pdocs = Doc.objects.filter(query__project=p) | Doc.objects.filter(technology__project=p)\n",
    "pdocs = pdocs.distinct()\n",
    "print(pdocs.count())\n",
    "\n",
    "prdocs = pdocs.filter(docownership__relevant=1)\n",
    "print(prdocs.distinct().count())\n",
    "\n",
    "ptrdocs = pdocs.filter(docownership__relevant=1) | pdocs.filter(technology__project=p)\n",
    "print(ptrdocs.distinct().count())"
   ]
  },
  {
   "cell_type": "code",
   "execution_count": 11,
   "metadata": {
    "collapsed": false,
    "deletable": true,
    "editable": true
   },
   "outputs": [],
   "source": [
    "for d in pdocs.distinct():\n",
    "    dp, created = DocProject.objects.get_or_create(\n",
    "        doc = d,\n",
    "        project = p\n",
    "    )\n",
    "    dp.save()"
   ]
  },
  {
   "cell_type": "code",
   "execution_count": 5,
   "metadata": {
    "collapsed": false,
    "deletable": true,
    "editable": true
   },
   "outputs": [],
   "source": [
    "q = Query.objects.get(pk=1498)\n",
    "for d in ptrdocs.distinct():\n",
    "    d.query.add(q)"
   ]
  },
  {
   "cell_type": "code",
   "execution_count": 6,
   "metadata": {
    "collapsed": true,
    "deletable": true,
    "editable": true
   },
   "outputs": [],
   "source": [
    "q.r_count = ptrdocs.distinct().count()"
   ]
  },
  {
   "cell_type": "code",
   "execution_count": 7,
   "metadata": {
    "collapsed": true,
    "deletable": true,
    "editable": true
   },
   "outputs": [],
   "source": [
    "q.save()"
   ]
  },
  {
   "cell_type": "code",
   "execution_count": null,
   "metadata": {
    "collapsed": true,
    "deletable": true,
    "editable": true
   },
   "outputs": [],
   "source": []
  }
 ],
 "metadata": {
  "kernelspec": {
   "display_name": "Python 3",
   "language": "python",
   "name": "python3"
  },
  "language_info": {
   "codemirror_mode": {
    "name": "ipython",
    "version": 3
   },
   "file_extension": ".py",
   "mimetype": "text/x-python",
   "name": "python",
   "nbconvert_exporter": "python",
   "pygments_lexer": "ipython3",
   "version": "3.4.3"
  }
 },
 "nbformat": 4,
 "nbformat_minor": 2
}
